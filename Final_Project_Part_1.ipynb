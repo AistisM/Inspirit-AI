{
  "nbformat": 4,
  "nbformat_minor": 0,
  "metadata": {
    "colab": {
      "name": "Final Project Part 1",
      "provenance": [],
      "collapsed_sections": [],
      "include_colab_link": true
    },
    "kernelspec": {
      "name": "python3",
      "display_name": "Python 3"
    }
  },
  "cells": [
    {
      "cell_type": "markdown",
      "metadata": {
        "id": "view-in-github",
        "colab_type": "text"
      },
      "source": [
        "<a href=\"https://colab.research.google.com/github/AistisM/Inspirit-AI/blob/main/Final_Project_Part_1.ipynb\" target=\"_parent\"><img src=\"https://colab.research.google.com/assets/colab-badge.svg\" alt=\"Open In Colab\"/></a>"
      ]
    },
    {
      "cell_type": "markdown",
      "metadata": {
        "id": "fJOo77sBWKt8"
      },
      "source": [
        "# Classifying Voice Commands\n",
        "\n",
        "How does Siri know what to do when you ask her a question or tell her a command?\n",
        "\n",
        "<img src=\"https://www.cheatsheet.com/wp-content/uploads/2016/01/Siri-in-iOS-9-640x305.png\" width=400>\n",
        "\n",
        "Obviously Siri can't predict every possible sentence someone might say to her - there's infinite possibilities! So there's definitely no way to hardcode or memorize every answer she might need.\n",
        "\n",
        "Instead, these systems have to use **Natural Language Processing** (NLP) algorithms.\n",
        "\n",
        "For voice commands, Siri needs to be able to figure out *what* the speaker wants, and then *how* to accomplish that request. <img src=\"https://images.emojiterra.com/google/android-10/512px/1f914.png\" width=20>\n",
        "\n",
        "\n",
        "---\n",
        "\n",
        "\n",
        "\n",
        "\n"
      ]
    },
    {
      "cell_type": "markdown",
      "metadata": {
        "id": "Ti3qkbz7MIIt"
      },
      "source": [
        "Throughout this project we will be analyzing verbal commands to help Siri figure out what her correct response and action should be by: \n",
        "\n",
        "a) predicting the *intent* of the speaker\n",
        "\n",
        "and\n",
        "\n",
        "b) extracting interesting named entities within the command.\n",
        "\n",
        "Part (b) is known as **Named Entity Recognition** (NER), which locates and classifies entities in text into pre-defined categories such as person names, organizations, and locations.\n",
        "\n",
        "<img src=\"https://miro.medium.com/max/2594/1*rq7FCkcq4sqUY9IgfsPEOg.png\" width=\"500\">\n",
        "\n",
        "Part (a) is a sentence-level classification task, and part (b) - or NER - is a token-level classification task, which in turn will help us with the overall sentence-level task of predicting what the speaker wants!\n",
        "\n",
        "---\n",
        "\n",
        "\n",
        "\n",
        "\n"
      ]
    },
    {
      "cell_type": "markdown",
      "metadata": {
        "id": "vr5S4rtvNhj3"
      },
      "source": [
        "## Example\n",
        "Here is an example of the format of the final predictions that we will produce:\n",
        "\n",
        "The command \"Book a table for two at Le Ritz for Friday night\" becomes \n",
        "\n",
        "```\n",
        "{\n",
        "    'intent': 'BookRestaurant',\n",
        "    'slots': {\n",
        "        'party_size_number': 'two',\n",
        "        'restaurant_name': 'Le Ritz',\n",
        "        'timeRange': 'Friday night'\n",
        "    }\n",
        "}\n",
        "```\n",
        "\n",
        "As you can see, knowing the fact that 'Le Ritz' is a restaurant name, 'two' refers to a party size, and 'Friday night' means a time range would definitely help Siri realize that this speaker wants to book a restaurant reservation! <img src=\"https://s3.amazonaws.com/pix.iemoji.com/images/emoji/apple/ios-12/256/face-savouring-delicious-food.png\" width=20>"
      ]
    },
    {
      "cell_type": "markdown",
      "metadata": {
        "id": "dlE9nndIa-4-"
      },
      "source": [
        "In this notebook we'll be:\n",
        "*   Exploring the Dataset for the Understanding SIRI Project\n",
        "\n"
      ]
    },
    {
      "cell_type": "markdown",
      "metadata": {
        "id": "DhVfDIW5WfwC"
      },
      "source": [
        "## Data\n",
        "\n",
        "We are using a voice command dataset collected, annotated, and published by a French startup SNIPS.ai (which was [bought](https://investors.sonos.com/news-and-events/investor-news/latest-news/2019/Sonos-Announces-Acquisition-of-Snips/default.aspx) last November by Audio device manufacturer Sonos).\n",
        "\n",
        "We will use a preprocessed version of this dataset with token-level BIO tagging, so it is closer to the representation that our model will predict. This variant of the SNIPS dataset was prepared by [Su Zhu](https://github.com/sz128)."
      ]
    },
    {
      "cell_type": "code",
      "metadata": {
        "id": "IGhaZfpgWjRH",
        "colab": {
          "base_uri": "https://localhost:8080/"
        },
        "outputId": "22f19e55-eb6b-4213-991d-fdef291700d1"
      },
      "source": [
        "#@title Run this code to get started\n",
        "\n",
        "%tensorflow_version 2.x\n",
        "%pip install -q transformers\n",
        "\n",
        "from urllib.request import urlretrieve\n",
        "from pathlib import Path\n",
        "import matplotlib.pyplot as plt\n",
        "import numpy as np\n",
        "\n",
        "SNIPS_DATA_BASE_URL = (\n",
        "    \"https://github.com/ogrisel/slot_filling_and_intent_detection_of_SLU/blob/\"\n",
        "    \"master/data/snips/\"\n",
        ")\n",
        "for filename in [\"train\", \"valid\", \"test\", \"vocab.intent\", \"vocab.slot\"]:\n",
        "    path = Path(filename)\n",
        "    if not path.exists():\n",
        "      print(f\"Downloading {filename}...\")\n",
        "      urlretrieve(SNIPS_DATA_BASE_URL + filename + \"?raw=true\", path)"
      ],
      "execution_count": null,
      "outputs": [
        {
          "output_type": "stream",
          "text": [
            "\u001b[K     |████████████████████████████████| 2.1MB 5.6MB/s \n",
            "\u001b[K     |████████████████████████████████| 901kB 19.4MB/s \n",
            "\u001b[K     |████████████████████████████████| 3.3MB 27.3MB/s \n",
            "\u001b[?25hDownloading train...\n",
            "Downloading valid...\n",
            "Downloading test...\n",
            "Downloading vocab.intent...\n",
            "Downloading vocab.slot...\n"
          ],
          "name": "stdout"
        }
      ]
    },
    {
      "cell_type": "markdown",
      "metadata": {
        "id": "Y_kdsF4HWqH2"
      },
      "source": [
        "Great! We now have data downloaded into **five files** called \"train\", \"valid\", \"test\", \"vocab.intent\", and \"vocab.slot\".\n",
        "\n",
        "Let's explore what these files contain."
      ]
    },
    {
      "cell_type": "markdown",
      "metadata": {
        "id": "JTchalghSuz4"
      },
      "source": [
        "Let's look at 'vocab.intent' to see what **intentions** Siri can comprehend:"
      ]
    },
    {
      "cell_type": "code",
      "metadata": {
        "id": "rYZNfLgqWjsS",
        "colab": {
          "base_uri": "https://localhost:8080/"
        },
        "outputId": "54cdd059-0a73-46bc-c7e4-35af989e0076"
      },
      "source": [
        "# Prints vocab.intent\n",
        "intent_lines = Path(\"vocab.intent\").read_text().strip().splitlines()\n",
        "for line in intent_lines:\n",
        "  print(line)\n",
        "print(\"\\nThere are {} possible classes for the sentence level prediction task.\".format(len(intent_lines)))"
      ],
      "execution_count": null,
      "outputs": [
        {
          "output_type": "stream",
          "text": [
            "AddToPlaylist\n",
            "BookRestaurant\n",
            "GetWeather\n",
            "PlayMusic\n",
            "RateBook\n",
            "SearchCreativeWork\n",
            "SearchScreeningEvent\n",
            "\n",
            "There are 7 possible classes for the sentence level prediction task.\n"
          ],
          "name": "stdout"
        }
      ]
    },
    {
      "cell_type": "markdown",
      "metadata": {
        "id": "5PDHTzqvSPXj"
      },
      "source": [
        "**Discuss**:\n",
        "\n",
        "This is clearly a toy dataset because there are only 7 things that Siri could correctly predict as the intention of a user's command. What other intent classes would be interesting and necessary for Siri to know?"
      ]
    },
    {
      "cell_type": "markdown",
      "metadata": {
        "id": "-9st-UnaodZQ"
      },
      "source": [
        "<img src=\"https://ift.tt/1Gkj0zA\" width=400>"
      ]
    },
    {
      "cell_type": "markdown",
      "metadata": {
        "id": "ao2NgHguS2ET"
      },
      "source": [
        "Now let's look at 'vocab.slot' to see what kinds of **named entities** Siri has in its vocabulary:"
      ]
    },
    {
      "cell_type": "code",
      "metadata": {
        "id": "Zl7eIr-_Wuk8",
        "colab": {
          "base_uri": "https://localhost:8080/"
        },
        "outputId": "d35faa50-7470-48a5-ed96-e386ec13aeb1"
      },
      "source": [
        "# Prints vocab.slot\n",
        "slot_lines = Path(\"vocab.slot\").read_text().strip().splitlines()\n",
        "for line in slot_lines:\n",
        "  print(line)\n",
        "print(\"\\nThere are {} possible classes for the word level prediction task.\".format(len(slot_lines)))"
      ],
      "execution_count": null,
      "outputs": [
        {
          "output_type": "stream",
          "text": [
            "B-album\n",
            "B-artist\n",
            "B-best_rating\n",
            "B-city\n",
            "B-condition_description\n",
            "B-condition_temperature\n",
            "B-country\n",
            "B-cuisine\n",
            "B-current_location\n",
            "B-entity_name\n",
            "B-facility\n",
            "B-genre\n",
            "B-geographic_poi\n",
            "B-location_name\n",
            "B-movie_name\n",
            "B-movie_type\n",
            "B-music_item\n",
            "B-object_location_type\n",
            "B-object_name\n",
            "B-object_part_of_series_type\n",
            "B-object_select\n",
            "B-object_type\n",
            "B-party_size_description\n",
            "B-party_size_number\n",
            "B-playlist\n",
            "B-playlist_owner\n",
            "B-poi\n",
            "B-rating_unit\n",
            "B-rating_value\n",
            "B-restaurant_name\n",
            "B-restaurant_type\n",
            "B-served_dish\n",
            "B-service\n",
            "B-sort\n",
            "B-spatial_relation\n",
            "B-state\n",
            "B-timeRange\n",
            "B-track\n",
            "B-year\n",
            "I-album\n",
            "I-artist\n",
            "I-city\n",
            "I-country\n",
            "I-cuisine\n",
            "I-current_location\n",
            "I-entity_name\n",
            "I-facility\n",
            "I-genre\n",
            "I-geographic_poi\n",
            "I-location_name\n",
            "I-movie_name\n",
            "I-movie_type\n",
            "I-music_item\n",
            "I-object_location_type\n",
            "I-object_name\n",
            "I-object_part_of_series_type\n",
            "I-object_select\n",
            "I-object_type\n",
            "I-party_size_description\n",
            "I-playlist\n",
            "I-playlist_owner\n",
            "I-poi\n",
            "I-restaurant_name\n",
            "I-restaurant_type\n",
            "I-served_dish\n",
            "I-service\n",
            "I-sort\n",
            "I-spatial_relation\n",
            "I-state\n",
            "I-timeRange\n",
            "I-track\n",
            "O\n",
            "\n",
            "There are 72 possible classes for the word level prediction task.\n"
          ],
          "name": "stdout"
        }
      ]
    },
    {
      "cell_type": "markdown",
      "metadata": {
        "id": "2ZagHs0RWbsQ"
      },
      "source": [
        "### **BIO Tagging**\n",
        "\n",
        "This is a common format for tagging tokens in a NER task.\n",
        "\n",
        "B = beginning\n",
        "I = inside\n",
        "O = outside\n",
        "\n",
        "The B- prefix before a tag indicates that the tag is the *beginning* of a chunk, and an I- prefix before a tag indicates that the tag is *inside* a chunk. An O tag indicates that a token belongs to *no chunk*.\n",
        "\n",
        "Using our previous example with the command \"Book a table for two at Le Ritz for Friday night\", we get the following BIO tags:\n",
        "\n",
        "```\n",
        "      Book : O\n",
        "         a : O\n",
        "     table : O\n",
        "       for : O\n",
        "       two : B-party_size_number\n",
        "        at : O\n",
        "        Le : B-restaurant_name\n",
        "         R : I-restaurant_name\n",
        "     ##itz : I-restaurant_name\n",
        "       for : O\n",
        "    Friday : B-timeRange\n",
        "     night : I-timeRange\n",
        "         ! : O\n",
        "```"
      ]
    },
    {
      "cell_type": "markdown",
      "metadata": {
        "id": "Xs9gBcTmeJmN"
      },
      "source": [
        "**Discuss**: \n",
        "\n",
        "Why is BIO tagging used, and what are some potential issues with the scheme?\n",
        "\n",
        "Also, what do you think the distinction between the \"B-\" and \"I-\" prefixes is useful for?"
      ]
    },
    {
      "cell_type": "markdown",
      "metadata": {
        "id": "5sYd4qA-WxYS"
      },
      "source": [
        "### Exercise 1\n",
        "\n",
        "\n",
        "Read in the training data stored in the \"train\" file (Hint: Look at how we read in both vocab files above into ``intent_lines`` and ``slot_lines``).\n",
        "\n",
        "Then examine just the first 3 lines of train_lines."
      ]
    },
    {
      "cell_type": "code",
      "metadata": {
        "id": "plPqp9MbWxq1",
        "colab": {
          "base_uri": "https://localhost:8080/"
        },
        "outputId": "1562fde4-61d1-4b05-80e8-b768a4e29b0f"
      },
      "source": [
        "# Store all the training data in train_lines, and print only the first 3 lines of train_lines.\n",
        "\n",
        "### YOUR CODE HERE ###\n",
        "train_lines = Path(\"train\").read_text().strip().splitlines()\n",
        "for line in train_lines[:3]:\n",
        "  print(line)"
      ],
      "execution_count": null,
      "outputs": [
        {
          "output_type": "stream",
          "text": [
            "Add:O Don:B-entity_name and:I-entity_name Sherri:I-entity_name to:O my:B-playlist_owner Meditate:B-playlist to:I-playlist Sounds:I-playlist of:I-playlist Nature:I-playlist playlist:O <=> AddToPlaylist\n",
            "put:O United:B-entity_name Abominations:I-entity_name onto:O my:B-playlist_owner rare:B-playlist groove:I-playlist playlist:O <=> AddToPlaylist\n",
            "add:O the:O tune:B-music_item by:O misato:B-artist watanabe:I-artist to:O the:O Trapeo:B-playlist playlist:O <=> AddToPlaylist\n"
          ],
          "name": "stdout"
        }
      ]
    },
    {
      "cell_type": "markdown",
      "metadata": {
        "id": "6rnOo3x4XPVX"
      },
      "source": [
        "**Format of the train data**:\n",
        "\n",
        "\n",
        "\n",
        "*   The overall intent label for the voice command is at the end of the sequence, after the \"<=>\" separator.\n",
        "*   Each word is annotated with a word-level token (BIO label), after the \":\" separator."
      ]
    },
    {
      "cell_type": "markdown",
      "metadata": {
        "id": "58-Y6JOdXSdP"
      },
      "source": [
        "### Exercise 2\n",
        "\n",
        "Now let's parse a line of training data into a [JSON](https://en.wikipedia.org/wiki/JSON) format to get the intent, length of the command, word-level BIO tags, and the command by itself. \n",
        "\n",
        "\n",
        "1) Finish the return statement of the function ``parse_line``.\n",
        "\n",
        "2) Then test it on the first line of training data.\n",
        "(Hint: The  training data should be stored in train_lines from Exercise 1)."
      ]
    },
    {
      "cell_type": "code",
      "metadata": {
        "id": "jAYS9oZMXPqw",
        "colab": {
          "base_uri": "https://localhost:8080/"
        },
        "outputId": "8bb96faa-b3e9-47d2-d0c1-0adc865a5ba2"
      },
      "source": [
        "# Parses a single line of training data into a JSON representation.\n",
        "def parse_line(line):\n",
        "    data, intent_label = line.split(\" <=> \")\n",
        "    items = data.split()\n",
        "    words,word_labels = zip(*[item.rsplit(\":\", 1) for item in items])\n",
        "    return {\n",
        "        \"intent_label\": intent_label, ### YOUR CODE HERE ###, \n",
        "        \"words\": \" \".join(words),\n",
        "        \"word_labels\": \" \".join(word_labels), ### YOUR CODE HERE ###,\n",
        "        \"length\": len(words)### YOUR CODE HERE ###,\n",
        "    }\n",
        "\n",
        "### YOUR CODE HERE ###\n",
        "parse_line(train_lines[0])"
      ],
      "execution_count": null,
      "outputs": [
        {
          "output_type": "execute_result",
          "data": {
            "text/plain": [
              "{'intent_label': 'AddToPlaylist',\n",
              " 'length': 12,\n",
              " 'word_labels': 'O B-entity_name I-entity_name I-entity_name O B-playlist_owner B-playlist I-playlist I-playlist I-playlist I-playlist O',\n",
              " 'words': 'Add Don and Sherri to my Meditate to Sounds of Nature playlist'}"
            ]
          },
          "metadata": {
            "tags": []
          },
          "execution_count": 5
        }
      ]
    },
    {
      "cell_type": "markdown",
      "metadata": {
        "id": "8HtulttRZGMg"
      },
      "source": [
        "**Discuss**:\n",
        "1. How many words are in the first sequence of the training data?\n",
        "2. How many unique BIO tags are there in the first sequence of the training data?"
      ]
    },
    {
      "cell_type": "markdown",
      "metadata": {
        "id": "tI8tLOmCZJ4m"
      },
      "source": [
        "### Training Data Analysis\n",
        "\n",
        "Now  let's use the ``parse_line`` function we completed to parse *all* the lines of the training data and store the results in a pandas DataFrame <img src=\"https://images.emojiterra.com/google/android-10/share/1f43c.jpg\" width=40>"
      ]
    },
    {
      "cell_type": "code",
      "metadata": {
        "id": "AiBxHJzZZlcQ",
        "colab": {
          "base_uri": "https://localhost:8080/",
          "height": 402
        },
        "outputId": "1056cfc8-af74-45e8-e122-e0271cd7d802"
      },
      "source": [
        "import pandas as pd\n",
        "\n",
        "parsed_train = [parse_line(line) for line in train_lines]\n",
        "df_train = pd.DataFrame([p for p in parsed_train if p is not None])\n",
        "df_train"
      ],
      "execution_count": null,
      "outputs": [
        {
          "output_type": "execute_result",
          "data": {
            "text/html": [
              "<div>\n",
              "<style scoped>\n",
              "    .dataframe tbody tr th:only-of-type {\n",
              "        vertical-align: middle;\n",
              "    }\n",
              "\n",
              "    .dataframe tbody tr th {\n",
              "        vertical-align: top;\n",
              "    }\n",
              "\n",
              "    .dataframe thead th {\n",
              "        text-align: right;\n",
              "    }\n",
              "</style>\n",
              "<table border=\"1\" class=\"dataframe\">\n",
              "  <thead>\n",
              "    <tr style=\"text-align: right;\">\n",
              "      <th></th>\n",
              "      <th>intent_label</th>\n",
              "      <th>words</th>\n",
              "      <th>word_labels</th>\n",
              "      <th>length</th>\n",
              "    </tr>\n",
              "  </thead>\n",
              "  <tbody>\n",
              "    <tr>\n",
              "      <th>0</th>\n",
              "      <td>AddToPlaylist</td>\n",
              "      <td>Add Don and Sherri to my Meditate to Sounds of...</td>\n",
              "      <td>O B-entity_name I-entity_name I-entity_name O ...</td>\n",
              "      <td>12</td>\n",
              "    </tr>\n",
              "    <tr>\n",
              "      <th>1</th>\n",
              "      <td>AddToPlaylist</td>\n",
              "      <td>put United Abominations onto my rare groove pl...</td>\n",
              "      <td>O B-entity_name I-entity_name O B-playlist_own...</td>\n",
              "      <td>8</td>\n",
              "    </tr>\n",
              "    <tr>\n",
              "      <th>2</th>\n",
              "      <td>AddToPlaylist</td>\n",
              "      <td>add the tune by misato watanabe to the Trapeo ...</td>\n",
              "      <td>O O B-music_item O B-artist I-artist O O B-pla...</td>\n",
              "      <td>10</td>\n",
              "    </tr>\n",
              "    <tr>\n",
              "      <th>3</th>\n",
              "      <td>AddToPlaylist</td>\n",
              "      <td>add this artist to my this is miguel bosé play...</td>\n",
              "      <td>O O B-music_item O B-playlist_owner B-playlist...</td>\n",
              "      <td>10</td>\n",
              "    </tr>\n",
              "    <tr>\n",
              "      <th>4</th>\n",
              "      <td>AddToPlaylist</td>\n",
              "      <td>add heresy and the hotel choir to the evening ...</td>\n",
              "      <td>O B-entity_name I-entity_name I-entity_name I-...</td>\n",
              "      <td>11</td>\n",
              "    </tr>\n",
              "    <tr>\n",
              "      <th>...</th>\n",
              "      <td>...</td>\n",
              "      <td>...</td>\n",
              "      <td>...</td>\n",
              "      <td>...</td>\n",
              "    </tr>\n",
              "    <tr>\n",
              "      <th>13079</th>\n",
              "      <td>SearchScreeningEvent</td>\n",
              "      <td>find a Consolidated Theatres showing The Good ...</td>\n",
              "      <td>O O B-location_name I-location_name O B-movie_...</td>\n",
              "      <td>10</td>\n",
              "    </tr>\n",
              "    <tr>\n",
              "      <th>13080</th>\n",
              "      <td>SearchScreeningEvent</td>\n",
              "      <td>where can i see animated movies in the neighbo...</td>\n",
              "      <td>O O O O B-movie_type I-movie_type B-spatial_re...</td>\n",
              "      <td>9</td>\n",
              "    </tr>\n",
              "    <tr>\n",
              "      <th>13081</th>\n",
              "      <td>SearchScreeningEvent</td>\n",
              "      <td>Showtimes for animated movies in the area .</td>\n",
              "      <td>O O B-movie_type I-movie_type B-spatial_relati...</td>\n",
              "      <td>8</td>\n",
              "    </tr>\n",
              "    <tr>\n",
              "      <th>13082</th>\n",
              "      <td>SearchScreeningEvent</td>\n",
              "      <td>Which animated movies are playing at Megaplex ...</td>\n",
              "      <td>O B-movie_type I-movie_type O O O B-location_n...</td>\n",
              "      <td>11</td>\n",
              "    </tr>\n",
              "    <tr>\n",
              "      <th>13083</th>\n",
              "      <td>SearchScreeningEvent</td>\n",
              "      <td>What movie schedules start at sunset ?</td>\n",
              "      <td>O B-object_type I-object_type O O B-timeRange O</td>\n",
              "      <td>7</td>\n",
              "    </tr>\n",
              "  </tbody>\n",
              "</table>\n",
              "<p>13084 rows × 4 columns</p>\n",
              "</div>"
            ],
            "text/plain": [
              "               intent_label  ... length\n",
              "0             AddToPlaylist  ...     12\n",
              "1             AddToPlaylist  ...      8\n",
              "2             AddToPlaylist  ...     10\n",
              "3             AddToPlaylist  ...     10\n",
              "4             AddToPlaylist  ...     11\n",
              "...                     ...  ...    ...\n",
              "13079  SearchScreeningEvent  ...     10\n",
              "13080  SearchScreeningEvent  ...      9\n",
              "13081  SearchScreeningEvent  ...      8\n",
              "13082  SearchScreeningEvent  ...     11\n",
              "13083  SearchScreeningEvent  ...      7\n",
              "\n",
              "[13084 rows x 4 columns]"
            ]
          },
          "metadata": {
            "tags": []
          },
          "execution_count": 6
        }
      ]
    },
    {
      "cell_type": "markdown",
      "metadata": {
        "id": "NSRyhfaNZnzS"
      },
      "source": [
        "Here is the same training data, but grouped by the sentence-level labels:"
      ]
    },
    {
      "cell_type": "code",
      "metadata": {
        "id": "0SZ411OyZoLn",
        "colab": {
          "base_uri": "https://localhost:8080/",
          "height": 284
        },
        "outputId": "1f58ac92-d171-4c91-d7e2-0feccf61c452"
      },
      "source": [
        "# Shows the number of sentences that belong to each class of the intent labels.\n",
        "df_train.groupby(\"intent_label\").count()[['words']]"
      ],
      "execution_count": null,
      "outputs": [
        {
          "output_type": "execute_result",
          "data": {
            "text/html": [
              "<div>\n",
              "<style scoped>\n",
              "    .dataframe tbody tr th:only-of-type {\n",
              "        vertical-align: middle;\n",
              "    }\n",
              "\n",
              "    .dataframe tbody tr th {\n",
              "        vertical-align: top;\n",
              "    }\n",
              "\n",
              "    .dataframe thead th {\n",
              "        text-align: right;\n",
              "    }\n",
              "</style>\n",
              "<table border=\"1\" class=\"dataframe\">\n",
              "  <thead>\n",
              "    <tr style=\"text-align: right;\">\n",
              "      <th></th>\n",
              "      <th>words</th>\n",
              "    </tr>\n",
              "    <tr>\n",
              "      <th>intent_label</th>\n",
              "      <th></th>\n",
              "    </tr>\n",
              "  </thead>\n",
              "  <tbody>\n",
              "    <tr>\n",
              "      <th>AddToPlaylist</th>\n",
              "      <td>1842</td>\n",
              "    </tr>\n",
              "    <tr>\n",
              "      <th>BookRestaurant</th>\n",
              "      <td>1873</td>\n",
              "    </tr>\n",
              "    <tr>\n",
              "      <th>GetWeather</th>\n",
              "      <td>1900</td>\n",
              "    </tr>\n",
              "    <tr>\n",
              "      <th>PlayMusic</th>\n",
              "      <td>1900</td>\n",
              "    </tr>\n",
              "    <tr>\n",
              "      <th>RateBook</th>\n",
              "      <td>1856</td>\n",
              "    </tr>\n",
              "    <tr>\n",
              "      <th>SearchCreativeWork</th>\n",
              "      <td>1854</td>\n",
              "    </tr>\n",
              "    <tr>\n",
              "      <th>SearchScreeningEvent</th>\n",
              "      <td>1859</td>\n",
              "    </tr>\n",
              "  </tbody>\n",
              "</table>\n",
              "</div>"
            ],
            "text/plain": [
              "                      words\n",
              "intent_label               \n",
              "AddToPlaylist          1842\n",
              "BookRestaurant         1873\n",
              "GetWeather             1900\n",
              "PlayMusic              1900\n",
              "RateBook               1856\n",
              "SearchCreativeWork     1854\n",
              "SearchScreeningEvent   1859"
            ]
          },
          "metadata": {
            "tags": []
          },
          "execution_count": 7
        }
      ]
    },
    {
      "cell_type": "markdown",
      "metadata": {
        "id": "awR5GChgZr64"
      },
      "source": [
        "Nice! We can see that there is a pretty even number of training examples that belong to each of the 7 sentence-level classes.\n",
        "\n",
        "Let's take a look at the spread of training examples according to sequence lengths now:"
      ]
    },
    {
      "cell_type": "code",
      "metadata": {
        "id": "k6vc-zKuZsNz",
        "colab": {
          "base_uri": "https://localhost:8080/",
          "height": 283
        },
        "outputId": "bfb0e652-3f39-4163-f973-1b65c504d9c5"
      },
      "source": [
        "\n",
        "df_train.hist(\"length\", bins=30, by = \"intent_label\")\n",
        "plt.title(\"Sequence Length Histogram\")\n",
        "plt.xlabel(\"Number of words per sequence\")\n",
        "plt.ylabel(\"Count of sequences\")\n",
        "plt.show()"
      ],
      "execution_count": null,
      "outputs": [
        {
          "output_type": "display_data",
          "data": {
            "image/png": "[encoded data removed]",
            "text/plain": [
              "<Figure size 432x288 with 9 Axes>"
            ]
          },
          "metadata": {
            "tags": [],
            "needs_background": "light"
          }
        }
      ]
    },
    {
      "cell_type": "code",
      "metadata": {
        "id": "EqH4WI9_Zv2o",
        "colab": {
          "base_uri": "https://localhost:8080/"
        },
        "outputId": "be5d4884-ef68-4055-b5d3-09f44b873cad"
      },
      "source": [
        "# Text representation of the histogram of sequence lengths.\n",
        "count, division = np.histogram(df_train['length'], bins=30)\n",
        "\n",
        "for i in range(len(count)):\n",
        "  print(\"There are {} sequences that have between {} and {} number of words.\".format(count[i], round(division[i],3), round(division[i+1],3)))"
      ],
      "execution_count": null,
      "outputs": [
        {
          "output_type": "stream",
          "text": [
            "There are 190 sequences that have between 2.0 and 3.1 number of words.\n",
            "There are 351 sequences that have between 3.1 and 4.2 number of words.\n",
            "There are 873 sequences that have between 4.2 and 5.3 number of words.\n",
            "There are 1281 sequences that have between 5.3 and 6.4 number of words.\n",
            "There are 1632 sequences that have between 6.4 and 7.5 number of words.\n",
            "There are 1809 sequences that have between 7.5 and 8.6 number of words.\n",
            "There are 1713 sequences that have between 8.6 and 9.7 number of words.\n",
            "There are 1398 sequences that have between 9.7 and 10.8 number of words.\n",
            "There are 1144 sequences that have between 10.8 and 11.9 number of words.\n",
            "There are 845 sequences that have between 11.9 and 13.0 number of words.\n",
            "There are 1003 sequences that have between 13.0 and 14.1 number of words.\n",
            "There are 293 sequences that have between 14.1 and 15.2 number of words.\n",
            "There are 211 sequences that have between 15.2 and 16.3 number of words.\n",
            "There are 145 sequences that have between 16.3 and 17.4 number of words.\n",
            "There are 72 sequences that have between 17.4 and 18.5 number of words.\n",
            "There are 35 sequences that have between 18.5 and 19.6 number of words.\n",
            "There are 31 sequences that have between 19.6 and 20.7 number of words.\n",
            "There are 21 sequences that have between 20.7 and 21.8 number of words.\n",
            "There are 7 sequences that have between 21.8 and 22.9 number of words.\n",
            "There are 10 sequences that have between 22.9 and 24.0 number of words.\n",
            "There are 13 sequences that have between 24.0 and 25.1 number of words.\n",
            "There are 3 sequences that have between 25.1 and 26.2 number of words.\n",
            "There are 1 sequences that have between 26.2 and 27.3 number of words.\n",
            "There are 0 sequences that have between 27.3 and 28.4 number of words.\n",
            "There are 0 sequences that have between 28.4 and 29.5 number of words.\n",
            "There are 0 sequences that have between 29.5 and 30.6 number of words.\n",
            "There are 1 sequences that have between 30.6 and 31.7 number of words.\n",
            "There are 1 sequences that have between 31.7 and 32.8 number of words.\n",
            "There are 0 sequences that have between 32.8 and 33.9 number of words.\n",
            "There are 1 sequences that have between 33.9 and 35.0 number of words.\n"
          ],
          "name": "stdout"
        }
      ]
    },
    {
      "cell_type": "markdown",
      "metadata": {
        "id": "zJabz-VxZyuV"
      },
      "source": [
        "What are the average and maximum sequence lengths within the training dataset?"
      ]
    },
    {
      "cell_type": "code",
      "metadata": {
        "id": "_zT6t_uPZ01E",
        "colab": {
          "base_uri": "https://localhost:8080/"
        },
        "outputId": "bc710715-cf39-4c05-bfb5-9ae54189d367"
      },
      "source": [
        "avg_len = round(df_train['length'].mean(), 3)\n",
        "print(\"Average sequence length: {} words per sequence\".format(avg_len))\n",
        "\n",
        "max_len = max(df_train['length'])\n",
        "print(\"Maximum sequence length: {} words per sequence\".format(max_len))"
      ],
      "execution_count": null,
      "outputs": [
        {
          "output_type": "stream",
          "text": [
            "Average sequence length: 9.143 words per sequence\n",
            "Maximum sequence length: 35 words per sequence\n"
          ],
          "name": "stdout"
        }
      ]
    },
    {
      "cell_type": "markdown",
      "metadata": {
        "id": "YQAKOMF6Z5S1"
      },
      "source": [
        "### Exercise 3\n",
        "\n",
        "Let's create pandas DataFrames for the validation & test sets too.\n",
        "\n",
        "Read in the validation and test data stored in the \"valid\" and \"test\" files (Hint: Look at the initialization of train_lines in Exercise 1).\n",
        "\n",
        "Then create two DataFrames (Hint: Look at how df_train is initialized in the first cell under Training Data Analysis)."
      ]
    },
    {
      "cell_type": "code",
      "metadata": {
        "id": "opdHTfrVZ5rI"
      },
      "source": [
        "# Read in the lines from 'valid' & 'test' and create \n",
        "# corresponding DataFrames called df_valid and df_test.\n",
        "\n",
        "### YOUR CODE HERE ###\n",
        "\n",
        "def dataframe(filename):\n",
        "  lines = Path(filename).read_text().strip().splitlines()\n",
        "  parsed = [parse_line(line) for line in lines]\n",
        "  return pd.DataFrame([p for p in parsed if p is not None])\n",
        "\n",
        "df_valid = dataframe(\"valid\")\n",
        "df_test = dataframe(\"test\")"
      ],
      "execution_count": null,
      "outputs": []
    },
    {
      "cell_type": "markdown",
      "metadata": {
        "id": "yaHNo4_waCzu"
      },
      "source": [
        "### Exercise 4\n",
        "\n",
        "How many total examples are in each of the train, validation, and test sets?\n",
        "\n",
        "What is the percentage breakdown of the total dataset across the train, val, and test sets?"
      ]
    },
    {
      "cell_type": "code",
      "metadata": {
        "id": "OKv2RcT_aDNz",
        "colab": {
          "base_uri": "https://localhost:8080/"
        },
        "outputId": "f57afaa2-5941-46c1-c568-a4b06ee9edb6"
      },
      "source": [
        "# Print how many datapoints are in each of the train, validation, & test Dataframes.\n",
        "# Also print the percentage of the total for each set.\n",
        "\n",
        "### YOUR CODE HERE ###\n",
        "\n",
        "print(f'{len(df_train)}, {len(df_valid)}, {len(df_test)}')\n"
      ],
      "execution_count": null,
      "outputs": [
        {
          "output_type": "stream",
          "text": [
            "13084, 700, 700\n"
          ],
          "name": "stdout"
        }
      ]
    },
    {
      "cell_type": "markdown",
      "metadata": {
        "id": "iDFFJXdxbofm"
      },
      "source": [
        "Remember that we do not normally perform analysis on the validation and test sets, because the models we train should not be able to cheat and use information outside of the training set.\n",
        "\n",
        "But out of curiosity, how many sequences of each intent label class are there in each of the validation and training sets?"
      ]
    },
    {
      "cell_type": "code",
      "metadata": {
        "id": "m70o7kpJbo1S",
        "colab": {
          "base_uri": "https://localhost:8080/",
          "height": 284
        },
        "outputId": "c9821ab0-a71b-4cd1-e6e3-72b1af664b70"
      },
      "source": [
        "df_valid.groupby(\"intent_label\").count()[['words']]"
      ],
      "execution_count": null,
      "outputs": [
        {
          "output_type": "execute_result",
          "data": {
            "text/html": [
              "<div>\n",
              "<style scoped>\n",
              "    .dataframe tbody tr th:only-of-type {\n",
              "        vertical-align: middle;\n",
              "    }\n",
              "\n",
              "    .dataframe tbody tr th {\n",
              "        vertical-align: top;\n",
              "    }\n",
              "\n",
              "    .dataframe thead th {\n",
              "        text-align: right;\n",
              "    }\n",
              "</style>\n",
              "<table border=\"1\" class=\"dataframe\">\n",
              "  <thead>\n",
              "    <tr style=\"text-align: right;\">\n",
              "      <th></th>\n",
              "      <th>words</th>\n",
              "    </tr>\n",
              "    <tr>\n",
              "      <th>intent_label</th>\n",
              "      <th></th>\n",
              "    </tr>\n",
              "  </thead>\n",
              "  <tbody>\n",
              "    <tr>\n",
              "      <th>AddToPlaylist</th>\n",
              "      <td>100</td>\n",
              "    </tr>\n",
              "    <tr>\n",
              "      <th>BookRestaurant</th>\n",
              "      <td>100</td>\n",
              "    </tr>\n",
              "    <tr>\n",
              "      <th>GetWeather</th>\n",
              "      <td>100</td>\n",
              "    </tr>\n",
              "    <tr>\n",
              "      <th>PlayMusic</th>\n",
              "      <td>100</td>\n",
              "    </tr>\n",
              "    <tr>\n",
              "      <th>RateBook</th>\n",
              "      <td>100</td>\n",
              "    </tr>\n",
              "    <tr>\n",
              "      <th>SearchCreativeWork</th>\n",
              "      <td>100</td>\n",
              "    </tr>\n",
              "    <tr>\n",
              "      <th>SearchScreeningEvent</th>\n",
              "      <td>100</td>\n",
              "    </tr>\n",
              "  </tbody>\n",
              "</table>\n",
              "</div>"
            ],
            "text/plain": [
              "                      words\n",
              "intent_label               \n",
              "AddToPlaylist           100\n",
              "BookRestaurant          100\n",
              "GetWeather              100\n",
              "PlayMusic               100\n",
              "RateBook                100\n",
              "SearchCreativeWork      100\n",
              "SearchScreeningEvent    100"
            ]
          },
          "metadata": {
            "tags": []
          },
          "execution_count": 28
        }
      ]
    },
    {
      "cell_type": "markdown",
      "metadata": {
        "id": "BbINHnumbt1r"
      },
      "source": [
        "Cool, we can see that there is an exactly even spread among the 7 sentence-level classes for both the validation and testing sets. <img src=\"data:image/png;base64,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\" width=25>"
      ]
    },
    {
      "cell_type": "markdown",
      "metadata": {
        "id": "ii0mkaiPcD2a"
      },
      "source": [
        "**Discuss**:\n",
        "\n",
        "What other information or statistics would be useful in the preliminary data analysis stage before running any models on this data?"
      ]
    }
  ]
}