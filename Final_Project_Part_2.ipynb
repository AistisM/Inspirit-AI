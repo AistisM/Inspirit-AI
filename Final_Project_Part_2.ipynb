{
  "nbformat": 4,
  "nbformat_minor": 0,
  "metadata": {
    "colab": {
      "name": "Final Project Part 2",
      "provenance": [],
      "collapsed_sections": [],
      "include_colab_link": true
    },
    "kernelspec": {
      "name": "python3",
      "display_name": "Python 3"
    },
    "accelerator": "GPU",
    "widgets": {
      "application/vnd.jupyter.widget-state+json": {
        "36e0ba5511a345d0969e91396d69a820": {
          "model_module": "@jupyter-widgets/controls",
          "model_name": "HBoxModel",
          "state": {
            "_view_name": "HBoxView",
            "_dom_classes": [],
            "_model_name": "HBoxModel",
            "_view_module": "@jupyter-widgets/controls",
            "_model_module_version": "1.5.0",
            "_view_count": null,
            "_view_module_version": "1.5.0",
            "box_style": "",
            "layout": "IPY_MODEL_8da15a9ac3104a2d80497227be815752",
            "_model_module": "@jupyter-widgets/controls",
            "children": [
              "IPY_MODEL_d5a8455a9d884d7eb2ba74d7ab60c1fc",
              "IPY_MODEL_60eeff254f1e40f08bf379a1c0050b26"
            ]
          },
          "model_module_version": "1.5.0"
        },
        "8da15a9ac3104a2d80497227be815752": {
          "model_module": "@jupyter-widgets/base",
          "model_name": "LayoutModel",
          "state": {
            "_view_name": "LayoutView",
            "grid_template_rows": null,
            "right": null,
            "justify_content": null,
            "_view_module": "@jupyter-widgets/base",
            "overflow": null,
            "_model_module_version": "1.2.0",
            "_view_count": null,
            "flex_flow": null,
            "width": null,
            "min_width": null,
            "border": null,
            "align_items": null,
            "bottom": null,
            "_model_module": "@jupyter-widgets/base",
            "top": null,
            "grid_column": null,
            "overflow_y": null,
            "overflow_x": null,
            "grid_auto_flow": null,
            "grid_area": null,
            "grid_template_columns": null,
            "flex": null,
            "_model_name": "LayoutModel",
            "justify_items": null,
            "grid_row": null,
            "max_height": null,
            "align_content": null,
            "visibility": null,
            "align_self": null,
            "height": null,
            "min_height": null,
            "padding": null,
            "grid_auto_rows": null,
            "grid_gap": null,
            "max_width": null,
            "order": null,
            "_view_module_version": "1.2.0",
            "grid_template_areas": null,
            "object_position": null,
            "object_fit": null,
            "grid_auto_columns": null,
            "margin": null,
            "display": null,
            "left": null
          },
          "model_module_version": "1.2.0"
        },
        "d5a8455a9d884d7eb2ba74d7ab60c1fc": {
          "model_module": "@jupyter-widgets/controls",
          "model_name": "FloatProgressModel",
          "state": {
            "_view_name": "ProgressView",
            "style": "IPY_MODEL_729df0cb54e94900a917a0d8a606fa5f",
            "_dom_classes": [],
            "description": "Downloading: 100%",
            "_model_name": "FloatProgressModel",
            "bar_style": "success",
            "max": 213450,
            "_view_module": "@jupyter-widgets/controls",
            "_model_module_version": "1.5.0",
            "value": 213450,
            "_view_count": null,
            "_view_module_version": "1.5.0",
            "orientation": "horizontal",
            "min": 0,
            "description_tooltip": null,
            "_model_module": "@jupyter-widgets/controls",
            "layout": "IPY_MODEL_fba2be4055d540f1a10e6bb0b59eb491"
          },
          "model_module_version": "1.5.0"
        },
        "60eeff254f1e40f08bf379a1c0050b26": {
          "model_module": "@jupyter-widgets/controls",
          "model_name": "HTMLModel",
          "state": {
            "_view_name": "HTMLView",
            "style": "IPY_MODEL_edfe9992433b4786ab6e38cb2b465085",
            "_dom_classes": [],
            "description": "",
            "_model_name": "HTMLModel",
            "placeholder": "​",
            "_view_module": "@jupyter-widgets/controls",
            "_model_module_version": "1.5.0",
            "value": " 213k/213k [00:00&lt;00:00, 643kB/s]",
            "_view_count": null,
            "_view_module_version": "1.5.0",
            "description_tooltip": null,
            "_model_module": "@jupyter-widgets/controls",
            "layout": "IPY_MODEL_663c69a6a874471ea88eea935272701b"
          },
          "model_module_version": "1.5.0"
        },
        "729df0cb54e94900a917a0d8a606fa5f": {
          "model_module": "@jupyter-widgets/controls",
          "model_name": "ProgressStyleModel",
          "state": {
            "_view_name": "StyleView",
            "_model_name": "ProgressStyleModel",
            "description_width": "initial",
            "_view_module": "@jupyter-widgets/base",
            "_model_module_version": "1.5.0",
            "_view_count": null,
            "_view_module_version": "1.2.0",
            "bar_color": null,
            "_model_module": "@jupyter-widgets/controls"
          },
          "model_module_version": "1.5.0"
        },
        "fba2be4055d540f1a10e6bb0b59eb491": {
          "model_module": "@jupyter-widgets/base",
          "model_name": "LayoutModel",
          "state": {
            "_view_name": "LayoutView",
            "grid_template_rows": null,
            "right": null,
            "justify_content": null,
            "_view_module": "@jupyter-widgets/base",
            "overflow": null,
            "_model_module_version": "1.2.0",
            "_view_count": null,
            "flex_flow": null,
            "width": null,
            "min_width": null,
            "border": null,
            "align_items": null,
            "bottom": null,
            "_model_module": "@jupyter-widgets/base",
            "top": null,
            "grid_column": null,
            "overflow_y": null,
            "overflow_x": null,
            "grid_auto_flow": null,
            "grid_area": null,
            "grid_template_columns": null,
            "flex": null,
            "_model_name": "LayoutModel",
            "justify_items": null,
            "grid_row": null,
            "max_height": null,
            "align_content": null,
            "visibility": null,
            "align_self": null,
            "height": null,
            "min_height": null,
            "padding": null,
            "grid_auto_rows": null,
            "grid_gap": null,
            "max_width": null,
            "order": null,
            "_view_module_version": "1.2.0",
            "grid_template_areas": null,
            "object_position": null,
            "object_fit": null,
            "grid_auto_columns": null,
            "margin": null,
            "display": null,
            "left": null
          },
          "model_module_version": "1.2.0"
        },
        "edfe9992433b4786ab6e38cb2b465085": {
          "model_module": "@jupyter-widgets/controls",
          "model_name": "DescriptionStyleModel",
          "state": {
            "_view_name": "StyleView",
            "_model_name": "DescriptionStyleModel",
            "description_width": "",
            "_view_module": "@jupyter-widgets/base",
            "_model_module_version": "1.5.0",
            "_view_count": null,
            "_view_module_version": "1.2.0",
            "_model_module": "@jupyter-widgets/controls"
          },
          "model_module_version": "1.5.0"
        },
        "663c69a6a874471ea88eea935272701b": {
          "model_module": "@jupyter-widgets/base",
          "model_name": "LayoutModel",
          "state": {
            "_view_name": "LayoutView",
            "grid_template_rows": null,
            "right": null,
            "justify_content": null,
            "_view_module": "@jupyter-widgets/base",
            "overflow": null,
            "_model_module_version": "1.2.0",
            "_view_count": null,
            "flex_flow": null,
            "width": null,
            "min_width": null,
            "border": null,
            "align_items": null,
            "bottom": null,
            "_model_module": "@jupyter-widgets/base",
            "top": null,
            "grid_column": null,
            "overflow_y": null,
            "overflow_x": null,
            "grid_auto_flow": null,
            "grid_area": null,
            "grid_template_columns": null,
            "flex": null,
            "_model_name": "LayoutModel",
            "justify_items": null,
            "grid_row": null,
            "max_height": null,
            "align_content": null,
            "visibility": null,
            "align_self": null,
            "height": null,
            "min_height": null,
            "padding": null,
            "grid_auto_rows": null,
            "grid_gap": null,
            "max_width": null,
            "order": null,
            "_view_module_version": "1.2.0",
            "grid_template_areas": null,
            "object_position": null,
            "object_fit": null,
            "grid_auto_columns": null,
            "margin": null,
            "display": null,
            "left": null
          },
          "model_module_version": "1.2.0"
        },
        "92db2acb57e243629957fe12660557a9": {
          "model_module": "@jupyter-widgets/controls",
          "model_name": "HBoxModel",
          "state": {
            "_view_name": "HBoxView",
            "_dom_classes": [],
            "_model_name": "HBoxModel",
            "_view_module": "@jupyter-widgets/controls",
            "_model_module_version": "1.5.0",
            "_view_count": null,
            "_view_module_version": "1.5.0",
            "box_style": "",
            "layout": "IPY_MODEL_743cd000c6c74d9897966c26332d7a5e",
            "_model_module": "@jupyter-widgets/controls",
            "children": [
              "IPY_MODEL_b798068d33964c2d9ec30f2b4206c351",
              "IPY_MODEL_7f643b158f994fcf8728942641265a4a"
            ]
          },
          "model_module_version": "1.5.0"
        },
        "743cd000c6c74d9897966c26332d7a5e": {
          "model_module": "@jupyter-widgets/base",
          "model_name": "LayoutModel",
          "state": {
            "_view_name": "LayoutView",
            "grid_template_rows": null,
            "right": null,
            "justify_content": null,
            "_view_module": "@jupyter-widgets/base",
            "overflow": null,
            "_model_module_version": "1.2.0",
            "_view_count": null,
            "flex_flow": null,
            "width": null,
            "min_width": null,
            "border": null,
            "align_items": null,
            "bottom": null,
            "_model_module": "@jupyter-widgets/base",
            "top": null,
            "grid_column": null,
            "overflow_y": null,
            "overflow_x": null,
            "grid_auto_flow": null,
            "grid_area": null,
            "grid_template_columns": null,
            "flex": null,
            "_model_name": "LayoutModel",
            "justify_items": null,
            "grid_row": null,
            "max_height": null,
            "align_content": null,
            "visibility": null,
            "align_self": null,
            "height": null,
            "min_height": null,
            "padding": null,
            "grid_auto_rows": null,
            "grid_gap": null,
            "max_width": null,
            "order": null,
            "_view_module_version": "1.2.0",
            "grid_template_areas": null,
            "object_position": null,
            "object_fit": null,
            "grid_auto_columns": null,
            "margin": null,
            "display": null,
            "left": null
          },
          "model_module_version": "1.2.0"
        },
        "b798068d33964c2d9ec30f2b4206c351": {
          "model_module": "@jupyter-widgets/controls",
          "model_name": "FloatProgressModel",
          "state": {
            "_view_name": "ProgressView",
            "style": "IPY_MODEL_0a9c26ef5b414b9b982b38c21da8708d",
            "_dom_classes": [],
            "description": "Downloading: 100%",
            "_model_name": "FloatProgressModel",
            "bar_style": "success",
            "max": 29,
            "_view_module": "@jupyter-widgets/controls",
            "_model_module_version": "1.5.0",
            "value": 29,
            "_view_count": null,
            "_view_module_version": "1.5.0",
            "orientation": "horizontal",
            "min": 0,
            "description_tooltip": null,
            "_model_module": "@jupyter-widgets/controls",
            "layout": "IPY_MODEL_418e1177d5f9423c82965a3de83ff8c8"
          },
          "model_module_version": "1.5.0"
        },
        "7f643b158f994fcf8728942641265a4a": {
          "model_module": "@jupyter-widgets/controls",
          "model_name": "HTMLModel",
          "state": {
            "_view_name": "HTMLView",
            "style": "IPY_MODEL_d067081449094dfab51599eed7d127ad",
            "_dom_classes": [],
            "description": "",
            "_model_name": "HTMLModel",
            "placeholder": "​",
            "_view_module": "@jupyter-widgets/controls",
            "_model_module_version": "1.5.0",
            "value": " 29.0/29.0 [00:00&lt;00:00, 157B/s]",
            "_view_count": null,
            "_view_module_version": "1.5.0",
            "description_tooltip": null,
            "_model_module": "@jupyter-widgets/controls",
            "layout": "IPY_MODEL_4697ff271798452aaa014d9fd5eec750"
          },
          "model_module_version": "1.5.0"
        },
        "0a9c26ef5b414b9b982b38c21da8708d": {
          "model_module": "@jupyter-widgets/controls",
          "model_name": "ProgressStyleModel",
          "state": {
            "_view_name": "StyleView",
            "_model_name": "ProgressStyleModel",
            "description_width": "initial",
            "_view_module": "@jupyter-widgets/base",
            "_model_module_version": "1.5.0",
            "_view_count": null,
            "_view_module_version": "1.2.0",
            "bar_color": null,
            "_model_module": "@jupyter-widgets/controls"
          },
          "model_module_version": "1.5.0"
        },
        "418e1177d5f9423c82965a3de83ff8c8": {
          "model_module": "@jupyter-widgets/base",
          "model_name": "LayoutModel",
          "state": {
            "_view_name": "LayoutView",
            "grid_template_rows": null,
            "right": null,
            "justify_content": null,
            "_view_module": "@jupyter-widgets/base",
            "overflow": null,
            "_model_module_version": "1.2.0",
            "_view_count": null,
            "flex_flow": null,
            "width": null,
            "min_width": null,
            "border": null,
            "align_items": null,
            "bottom": null,
            "_model_module": "@jupyter-widgets/base",
            "top": null,
            "grid_column": null,
            "overflow_y": null,
            "overflow_x": null,
            "grid_auto_flow": null,
            "grid_area": null,
            "grid_template_columns": null,
            "flex": null,
            "_model_name": "LayoutModel",
            "justify_items": null,
            "grid_row": null,
            "max_height": null,
            "align_content": null,
            "visibility": null,
            "align_self": null,
            "height": null,
            "min_height": null,
            "padding": null,
            "grid_auto_rows": null,
            "grid_gap": null,
            "max_width": null,
            "order": null,
            "_view_module_version": "1.2.0",
            "grid_template_areas": null,
            "object_position": null,
            "object_fit": null,
            "grid_auto_columns": null,
            "margin": null,
            "display": null,
            "left": null
          },
          "model_module_version": "1.2.0"
        },
        "d067081449094dfab51599eed7d127ad": {
          "model_module": "@jupyter-widgets/controls",
          "model_name": "DescriptionStyleModel",
          "state": {
            "_view_name": "StyleView",
            "_model_name": "DescriptionStyleModel",
            "description_width": "",
            "_view_module": "@jupyter-widgets/base",
            "_model_module_version": "1.5.0",
            "_view_count": null,
            "_view_module_version": "1.2.0",
            "_model_module": "@jupyter-widgets/controls"
          },
          "model_module_version": "1.5.0"
        },
        "4697ff271798452aaa014d9fd5eec750": {
          "model_module": "@jupyter-widgets/base",
          "model_name": "LayoutModel",
          "state": {
            "_view_name": "LayoutView",
            "grid_template_rows": null,
            "right": null,
            "justify_content": null,
            "_view_module": "@jupyter-widgets/base",
            "overflow": null,
            "_model_module_version": "1.2.0",
            "_view_count": null,
            "flex_flow": null,
            "width": null,
            "min_width": null,
            "border": null,
            "align_items": null,
            "bottom": null,
            "_model_module": "@jupyter-widgets/base",
            "top": null,
            "grid_column": null,
            "overflow_y": null,
            "overflow_x": null,
            "grid_auto_flow": null,
            "grid_area": null,
            "grid_template_columns": null,
            "flex": null,
            "_model_name": "LayoutModel",
            "justify_items": null,
            "grid_row": null,
            "max_height": null,
            "align_content": null,
            "visibility": null,
            "align_self": null,
            "height": null,
            "min_height": null,
            "padding": null,
            "grid_auto_rows": null,
            "grid_gap": null,
            "max_width": null,
            "order": null,
            "_view_module_version": "1.2.0",
            "grid_template_areas": null,
            "object_position": null,
            "object_fit": null,
            "grid_auto_columns": null,
            "margin": null,
            "display": null,
            "left": null
          },
          "model_module_version": "1.2.0"
        },
        "36f23d643cd04e039e0c18ad1676fa2e": {
          "model_module": "@jupyter-widgets/controls",
          "model_name": "HBoxModel",
          "state": {
            "_view_name": "HBoxView",
            "_dom_classes": [],
            "_model_name": "HBoxModel",
            "_view_module": "@jupyter-widgets/controls",
            "_model_module_version": "1.5.0",
            "_view_count": null,
            "_view_module_version": "1.5.0",
            "box_style": "",
            "layout": "IPY_MODEL_a444ea723b554fdabb262a924abe3a20",
            "_model_module": "@jupyter-widgets/controls",
            "children": [
              "IPY_MODEL_6f5116d1c7d84091b285f184bcf6c593",
              "IPY_MODEL_63f484ff5b4e423dbfd95c036ea20094"
            ]
          },
          "model_module_version": "1.5.0"
        },
        "a444ea723b554fdabb262a924abe3a20": {
          "model_module": "@jupyter-widgets/base",
          "model_name": "LayoutModel",
          "state": {
            "_view_name": "LayoutView",
            "grid_template_rows": null,
            "right": null,
            "justify_content": null,
            "_view_module": "@jupyter-widgets/base",
            "overflow": null,
            "_model_module_version": "1.2.0",
            "_view_count": null,
            "flex_flow": null,
            "width": null,
            "min_width": null,
            "border": null,
            "align_items": null,
            "bottom": null,
            "_model_module": "@jupyter-widgets/base",
            "top": null,
            "grid_column": null,
            "overflow_y": null,
            "overflow_x": null,
            "grid_auto_flow": null,
            "grid_area": null,
            "grid_template_columns": null,
            "flex": null,
            "_model_name": "LayoutModel",
            "justify_items": null,
            "grid_row": null,
            "max_height": null,
            "align_content": null,
            "visibility": null,
            "align_self": null,
            "height": null,
            "min_height": null,
            "padding": null,
            "grid_auto_rows": null,
            "grid_gap": null,
            "max_width": null,
            "order": null,
            "_view_module_version": "1.2.0",
            "grid_template_areas": null,
            "object_position": null,
            "object_fit": null,
            "grid_auto_columns": null,
            "margin": null,
            "display": null,
            "left": null
          },
          "model_module_version": "1.2.0"
        },
        "6f5116d1c7d84091b285f184bcf6c593": {
          "model_module": "@jupyter-widgets/controls",
          "model_name": "FloatProgressModel",
          "state": {
            "_view_name": "ProgressView",
            "style": "IPY_MODEL_c055659c5eda4b1eb1268e4f4e9b37af",
            "_dom_classes": [],
            "description": "Downloading: 100%",
            "_model_name": "FloatProgressModel",
            "bar_style": "success",
            "max": 435797,
            "_view_module": "@jupyter-widgets/controls",
            "_model_module_version": "1.5.0",
            "value": 435797,
            "_view_count": null,
            "_view_module_version": "1.5.0",
            "orientation": "horizontal",
            "min": 0,
            "description_tooltip": null,
            "_model_module": "@jupyter-widgets/controls",
            "layout": "IPY_MODEL_290df48f04334ebe8aa6138b2a4414e7"
          },
          "model_module_version": "1.5.0"
        },
        "63f484ff5b4e423dbfd95c036ea20094": {
          "model_module": "@jupyter-widgets/controls",
          "model_name": "HTMLModel",
          "state": {
            "_view_name": "HTMLView",
            "style": "IPY_MODEL_e952ecef55a94e9cbfabba6c05abfef3",
            "_dom_classes": [],
            "description": "",
            "_model_name": "HTMLModel",
            "placeholder": "​",
            "_view_module": "@jupyter-widgets/controls",
            "_model_module_version": "1.5.0",
            "value": " 436k/436k [00:00&lt;00:00, 5.39MB/s]",
            "_view_count": null,
            "_view_module_version": "1.5.0",
            "description_tooltip": null,
            "_model_module": "@jupyter-widgets/controls",
            "layout": "IPY_MODEL_98b0f5d48fbe4d55a179e5746c9a6c98"
          },
          "model_module_version": "1.5.0"
        },
        "c055659c5eda4b1eb1268e4f4e9b37af": {
          "model_module": "@jupyter-widgets/controls",
          "model_name": "ProgressStyleModel",
          "state": {
            "_view_name": "StyleView",
            "_model_name": "ProgressStyleModel",
            "description_width": "initial",
            "_view_module": "@jupyter-widgets/base",
            "_model_module_version": "1.5.0",
            "_view_count": null,
            "_view_module_version": "1.2.0",
            "bar_color": null,
            "_model_module": "@jupyter-widgets/controls"
          },
          "model_module_version": "1.5.0"
        },
        "290df48f04334ebe8aa6138b2a4414e7": {
          "model_module": "@jupyter-widgets/base",
          "model_name": "LayoutModel",
          "state": {
            "_view_name": "LayoutView",
            "grid_template_rows": null,
            "right": null,
            "justify_content": null,
            "_view_module": "@jupyter-widgets/base",
            "overflow": null,
            "_model_module_version": "1.2.0",
            "_view_count": null,
            "flex_flow": null,
            "width": null,
            "min_width": null,
            "border": null,
            "align_items": null,
            "bottom": null,
            "_model_module": "@jupyter-widgets/base",
            "top": null,
            "grid_column": null,
            "overflow_y": null,
            "overflow_x": null,
            "grid_auto_flow": null,
            "grid_area": null,
            "grid_template_columns": null,
            "flex": null,
            "_model_name": "LayoutModel",
            "justify_items": null,
            "grid_row": null,
            "max_height": null,
            "align_content": null,
            "visibility": null,
            "align_self": null,
            "height": null,
            "min_height": null,
            "padding": null,
            "grid_auto_rows": null,
            "grid_gap": null,
            "max_width": null,
            "order": null,
            "_view_module_version": "1.2.0",
            "grid_template_areas": null,
            "object_position": null,
            "object_fit": null,
            "grid_auto_columns": null,
            "margin": null,
            "display": null,
            "left": null
          },
          "model_module_version": "1.2.0"
        },
        "e952ecef55a94e9cbfabba6c05abfef3": {
          "model_module": "@jupyter-widgets/controls",
          "model_name": "DescriptionStyleModel",
          "state": {
            "_view_name": "StyleView",
            "_model_name": "DescriptionStyleModel",
            "description_width": "",
            "_view_module": "@jupyter-widgets/base",
            "_model_module_version": "1.5.0",
            "_view_count": null,
            "_view_module_version": "1.2.0",
            "_model_module": "@jupyter-widgets/controls"
          },
          "model_module_version": "1.5.0"
        },
        "98b0f5d48fbe4d55a179e5746c9a6c98": {
          "model_module": "@jupyter-widgets/base",
          "model_name": "LayoutModel",
          "state": {
            "_view_name": "LayoutView",
            "grid_template_rows": null,
            "right": null,
            "justify_content": null,
            "_view_module": "@jupyter-widgets/base",
            "overflow": null,
            "_model_module_version": "1.2.0",
            "_view_count": null,
            "flex_flow": null,
            "width": null,
            "min_width": null,
            "border": null,
            "align_items": null,
            "bottom": null,
            "_model_module": "@jupyter-widgets/base",
            "top": null,
            "grid_column": null,
            "overflow_y": null,
            "overflow_x": null,
            "grid_auto_flow": null,
            "grid_area": null,
            "grid_template_columns": null,
            "flex": null,
            "_model_name": "LayoutModel",
            "justify_items": null,
            "grid_row": null,
            "max_height": null,
            "align_content": null,
            "visibility": null,
            "align_self": null,
            "height": null,
            "min_height": null,
            "padding": null,
            "grid_auto_rows": null,
            "grid_gap": null,
            "max_width": null,
            "order": null,
            "_view_module_version": "1.2.0",
            "grid_template_areas": null,
            "object_position": null,
            "object_fit": null,
            "grid_auto_columns": null,
            "margin": null,
            "display": null,
            "left": null
          },
          "model_module_version": "1.2.0"
        },
        "dd814bb511554516b99aba32e33828c0": {
          "model_module": "@jupyter-widgets/controls",
          "model_name": "HBoxModel",
          "state": {
            "_view_name": "HBoxView",
            "_dom_classes": [],
            "_model_name": "HBoxModel",
            "_view_module": "@jupyter-widgets/controls",
            "_model_module_version": "1.5.0",
            "_view_count": null,
            "_view_module_version": "1.5.0",
            "box_style": "",
            "layout": "IPY_MODEL_c8e09439e2044583b308bc3c191d6949",
            "_model_module": "@jupyter-widgets/controls",
            "children": [
              "IPY_MODEL_ad037cd7aac94ac1ab48c3c2c4231ca5",
              "IPY_MODEL_a7e0b7f6e74946f28d9f89d23c526b65"
            ]
          },
          "model_module_version": "1.5.0"
        },
        "c8e09439e2044583b308bc3c191d6949": {
          "model_module": "@jupyter-widgets/base",
          "model_name": "LayoutModel",
          "state": {
            "_view_name": "LayoutView",
            "grid_template_rows": null,
            "right": null,
            "justify_content": null,
            "_view_module": "@jupyter-widgets/base",
            "overflow": null,
            "_model_module_version": "1.2.0",
            "_view_count": null,
            "flex_flow": null,
            "width": null,
            "min_width": null,
            "border": null,
            "align_items": null,
            "bottom": null,
            "_model_module": "@jupyter-widgets/base",
            "top": null,
            "grid_column": null,
            "overflow_y": null,
            "overflow_x": null,
            "grid_auto_flow": null,
            "grid_area": null,
            "grid_template_columns": null,
            "flex": null,
            "_model_name": "LayoutModel",
            "justify_items": null,
            "grid_row": null,
            "max_height": null,
            "align_content": null,
            "visibility": null,
            "align_self": null,
            "height": null,
            "min_height": null,
            "padding": null,
            "grid_auto_rows": null,
            "grid_gap": null,
            "max_width": null,
            "order": null,
            "_view_module_version": "1.2.0",
            "grid_template_areas": null,
            "object_position": null,
            "object_fit": null,
            "grid_auto_columns": null,
            "margin": null,
            "display": null,
            "left": null
          },
          "model_module_version": "1.2.0"
        },
        "ad037cd7aac94ac1ab48c3c2c4231ca5": {
          "model_module": "@jupyter-widgets/controls",
          "model_name": "FloatProgressModel",
          "state": {
            "_view_name": "ProgressView",
            "style": "IPY_MODEL_613fbb73452a4e41be6f2bf134608b9b",
            "_dom_classes": [],
            "description": "Downloading: 100%",
            "_model_name": "FloatProgressModel",
            "bar_style": "success",
            "max": 570,
            "_view_module": "@jupyter-widgets/controls",
            "_model_module_version": "1.5.0",
            "value": 570,
            "_view_count": null,
            "_view_module_version": "1.5.0",
            "orientation": "horizontal",
            "min": 0,
            "description_tooltip": null,
            "_model_module": "@jupyter-widgets/controls",
            "layout": "IPY_MODEL_4050ca65bdce46ceb361ac5050808dfc"
          },
          "model_module_version": "1.5.0"
        },
        "a7e0b7f6e74946f28d9f89d23c526b65": {
          "model_module": "@jupyter-widgets/controls",
          "model_name": "HTMLModel",
          "state": {
            "_view_name": "HTMLView",
            "style": "IPY_MODEL_aa50089099a34a77a78cb060e19b507c",
            "_dom_classes": [],
            "description": "",
            "_model_name": "HTMLModel",
            "placeholder": "​",
            "_view_module": "@jupyter-widgets/controls",
            "_model_module_version": "1.5.0",
            "value": " 570/570 [00:00&lt;00:00, 2.54kB/s]",
            "_view_count": null,
            "_view_module_version": "1.5.0",
            "description_tooltip": null,
            "_model_module": "@jupyter-widgets/controls",
            "layout": "IPY_MODEL_1fe633cb958c49ec8b0d4a0742ed15fb"
          },
          "model_module_version": "1.5.0"
        },
        "613fbb73452a4e41be6f2bf134608b9b": {
          "model_module": "@jupyter-widgets/controls",
          "model_name": "ProgressStyleModel",
          "state": {
            "_view_name": "StyleView",
            "_model_name": "ProgressStyleModel",
            "description_width": "initial",
            "_view_module": "@jupyter-widgets/base",
            "_model_module_version": "1.5.0",
            "_view_count": null,
            "_view_module_version": "1.2.0",
            "bar_color": null,
            "_model_module": "@jupyter-widgets/controls"
          },
          "model_module_version": "1.5.0"
        },
        "4050ca65bdce46ceb361ac5050808dfc": {
          "model_module": "@jupyter-widgets/base",
          "model_name": "LayoutModel",
          "state": {
            "_view_name": "LayoutView",
            "grid_template_rows": null,
            "right": null,
            "justify_content": null,
            "_view_module": "@jupyter-widgets/base",
            "overflow": null,
            "_model_module_version": "1.2.0",
            "_view_count": null,
            "flex_flow": null,
            "width": null,
            "min_width": null,
            "border": null,
            "align_items": null,
            "bottom": null,
            "_model_module": "@jupyter-widgets/base",
            "top": null,
            "grid_column": null,
            "overflow_y": null,
            "overflow_x": null,
            "grid_auto_flow": null,
            "grid_area": null,
            "grid_template_columns": null,
            "flex": null,
            "_model_name": "LayoutModel",
            "justify_items": null,
            "grid_row": null,
            "max_height": null,
            "align_content": null,
            "visibility": null,
            "align_self": null,
            "height": null,
            "min_height": null,
            "padding": null,
            "grid_auto_rows": null,
            "grid_gap": null,
            "max_width": null,
            "order": null,
            "_view_module_version": "1.2.0",
            "grid_template_areas": null,
            "object_position": null,
            "object_fit": null,
            "grid_auto_columns": null,
            "margin": null,
            "display": null,
            "left": null
          },
          "model_module_version": "1.2.0"
        },
        "aa50089099a34a77a78cb060e19b507c": {
          "model_module": "@jupyter-widgets/controls",
          "model_name": "DescriptionStyleModel",
          "state": {
            "_view_name": "StyleView",
            "_model_name": "DescriptionStyleModel",
            "description_width": "",
            "_view_module": "@jupyter-widgets/base",
            "_model_module_version": "1.5.0",
            "_view_count": null,
            "_view_module_version": "1.2.0",
            "_model_module": "@jupyter-widgets/controls"
          },
          "model_module_version": "1.5.0"
        },
        "1fe633cb958c49ec8b0d4a0742ed15fb": {
          "model_module": "@jupyter-widgets/base",
          "model_name": "LayoutModel",
          "state": {
            "_view_name": "LayoutView",
            "grid_template_rows": null,
            "right": null,
            "justify_content": null,
            "_view_module": "@jupyter-widgets/base",
            "overflow": null,
            "_model_module_version": "1.2.0",
            "_view_count": null,
            "flex_flow": null,
            "width": null,
            "min_width": null,
            "border": null,
            "align_items": null,
            "bottom": null,
            "_model_module": "@jupyter-widgets/base",
            "top": null,
            "grid_column": null,
            "overflow_y": null,
            "overflow_x": null,
            "grid_auto_flow": null,
            "grid_area": null,
            "grid_template_columns": null,
            "flex": null,
            "_model_name": "LayoutModel",
            "justify_items": null,
            "grid_row": null,
            "max_height": null,
            "align_content": null,
            "visibility": null,
            "align_self": null,
            "height": null,
            "min_height": null,
            "padding": null,
            "grid_auto_rows": null,
            "grid_gap": null,
            "max_width": null,
            "order": null,
            "_view_module_version": "1.2.0",
            "grid_template_areas": null,
            "object_position": null,
            "object_fit": null,
            "grid_auto_columns": null,
            "margin": null,
            "display": null,
            "left": null
          },
          "model_module_version": "1.2.0"
        },
        "bf428af1a6044f81be3710e9d0ff407d": {
          "model_module": "@jupyter-widgets/controls",
          "model_name": "HBoxModel",
          "state": {
            "_view_name": "HBoxView",
            "_dom_classes": [],
            "_model_name": "HBoxModel",
            "_view_module": "@jupyter-widgets/controls",
            "_model_module_version": "1.5.0",
            "_view_count": null,
            "_view_module_version": "1.5.0",
            "box_style": "",
            "layout": "IPY_MODEL_ddcc8c4630ce425fa7bb2bc5b0e2119e",
            "_model_module": "@jupyter-widgets/controls",
            "children": [
              "IPY_MODEL_0a6dfa7b156047f6bcba45ee5bd23e5b",
              "IPY_MODEL_583f57f698fd45d5bf59cebbc5e237e6"
            ]
          },
          "model_module_version": "1.5.0"
        },
        "ddcc8c4630ce425fa7bb2bc5b0e2119e": {
          "model_module": "@jupyter-widgets/base",
          "model_name": "LayoutModel",
          "state": {
            "_view_name": "LayoutView",
            "grid_template_rows": null,
            "right": null,
            "justify_content": null,
            "_view_module": "@jupyter-widgets/base",
            "overflow": null,
            "_model_module_version": "1.2.0",
            "_view_count": null,
            "flex_flow": null,
            "width": null,
            "min_width": null,
            "border": null,
            "align_items": null,
            "bottom": null,
            "_model_module": "@jupyter-widgets/base",
            "top": null,
            "grid_column": null,
            "overflow_y": null,
            "overflow_x": null,
            "grid_auto_flow": null,
            "grid_area": null,
            "grid_template_columns": null,
            "flex": null,
            "_model_name": "LayoutModel",
            "justify_items": null,
            "grid_row": null,
            "max_height": null,
            "align_content": null,
            "visibility": null,
            "align_self": null,
            "height": null,
            "min_height": null,
            "padding": null,
            "grid_auto_rows": null,
            "grid_gap": null,
            "max_width": null,
            "order": null,
            "_view_module_version": "1.2.0",
            "grid_template_areas": null,
            "object_position": null,
            "object_fit": null,
            "grid_auto_columns": null,
            "margin": null,
            "display": null,
            "left": null
          },
          "model_module_version": "1.2.0"
        },
        "0a6dfa7b156047f6bcba45ee5bd23e5b": {
          "model_module": "@jupyter-widgets/controls",
          "model_name": "FloatProgressModel",
          "state": {
            "_view_name": "ProgressView",
            "style": "IPY_MODEL_e6b7df7980a8434a9547c53660d321ba",
            "_dom_classes": [],
            "description": "Downloading: 100%",
            "_model_name": "FloatProgressModel",
            "bar_style": "success",
            "max": 526681800,
            "_view_module": "@jupyter-widgets/controls",
            "_model_module_version": "1.5.0",
            "value": 526681800,
            "_view_count": null,
            "_view_module_version": "1.5.0",
            "orientation": "horizontal",
            "min": 0,
            "description_tooltip": null,
            "_model_module": "@jupyter-widgets/controls",
            "layout": "IPY_MODEL_c4b946ee9e9c46f8bb319de53489a8d4"
          },
          "model_module_version": "1.5.0"
        },
        "583f57f698fd45d5bf59cebbc5e237e6": {
          "model_module": "@jupyter-widgets/controls",
          "model_name": "HTMLModel",
          "state": {
            "_view_name": "HTMLView",
            "style": "IPY_MODEL_0082a5dc9b14459cb00b7181eeb0ae7a",
            "_dom_classes": [],
            "description": "",
            "_model_name": "HTMLModel",
            "placeholder": "​",
            "_view_module": "@jupyter-widgets/controls",
            "_model_module_version": "1.5.0",
            "value": " 527M/527M [00:16&lt;00:00, 32.0MB/s]",
            "_view_count": null,
            "_view_module_version": "1.5.0",
            "description_tooltip": null,
            "_model_module": "@jupyter-widgets/controls",
            "layout": "IPY_MODEL_527c2cad2ece4de48dd8399a6c47bab8"
          },
          "model_module_version": "1.5.0"
        },
        "e6b7df7980a8434a9547c53660d321ba": {
          "model_module": "@jupyter-widgets/controls",
          "model_name": "ProgressStyleModel",
          "state": {
            "_view_name": "StyleView",
            "_model_name": "ProgressStyleModel",
            "description_width": "initial",
            "_view_module": "@jupyter-widgets/base",
            "_model_module_version": "1.5.0",
            "_view_count": null,
            "_view_module_version": "1.2.0",
            "bar_color": null,
            "_model_module": "@jupyter-widgets/controls"
          },
          "model_module_version": "1.5.0"
        },
        "c4b946ee9e9c46f8bb319de53489a8d4": {
          "model_module": "@jupyter-widgets/base",
          "model_name": "LayoutModel",
          "state": {
            "_view_name": "LayoutView",
            "grid_template_rows": null,
            "right": null,
            "justify_content": null,
            "_view_module": "@jupyter-widgets/base",
            "overflow": null,
            "_model_module_version": "1.2.0",
            "_view_count": null,
            "flex_flow": null,
            "width": null,
            "min_width": null,
            "border": null,
            "align_items": null,
            "bottom": null,
            "_model_module": "@jupyter-widgets/base",
            "top": null,
            "grid_column": null,
            "overflow_y": null,
            "overflow_x": null,
            "grid_auto_flow": null,
            "grid_area": null,
            "grid_template_columns": null,
            "flex": null,
            "_model_name": "LayoutModel",
            "justify_items": null,
            "grid_row": null,
            "max_height": null,
            "align_content": null,
            "visibility": null,
            "align_self": null,
            "height": null,
            "min_height": null,
            "padding": null,
            "grid_auto_rows": null,
            "grid_gap": null,
            "max_width": null,
            "order": null,
            "_view_module_version": "1.2.0",
            "grid_template_areas": null,
            "object_position": null,
            "object_fit": null,
            "grid_auto_columns": null,
            "margin": null,
            "display": null,
            "left": null
          },
          "model_module_version": "1.2.0"
        },
        "0082a5dc9b14459cb00b7181eeb0ae7a": {
          "model_module": "@jupyter-widgets/controls",
          "model_name": "DescriptionStyleModel",
          "state": {
            "_view_name": "StyleView",
            "_model_name": "DescriptionStyleModel",
            "description_width": "",
            "_view_module": "@jupyter-widgets/base",
            "_model_module_version": "1.5.0",
            "_view_count": null,
            "_view_module_version": "1.2.0",
            "_model_module": "@jupyter-widgets/controls"
          },
          "model_module_version": "1.5.0"
        },
        "527c2cad2ece4de48dd8399a6c47bab8": {
          "model_module": "@jupyter-widgets/base",
          "model_name": "LayoutModel",
          "state": {
            "_view_name": "LayoutView",
            "grid_template_rows": null,
            "right": null,
            "justify_content": null,
            "_view_module": "@jupyter-widgets/base",
            "overflow": null,
            "_model_module_version": "1.2.0",
            "_view_count": null,
            "flex_flow": null,
            "width": null,
            "min_width": null,
            "border": null,
            "align_items": null,
            "bottom": null,
            "_model_module": "@jupyter-widgets/base",
            "top": null,
            "grid_column": null,
            "overflow_y": null,
            "overflow_x": null,
            "grid_auto_flow": null,
            "grid_area": null,
            "grid_template_columns": null,
            "flex": null,
            "_model_name": "LayoutModel",
            "justify_items": null,
            "grid_row": null,
            "max_height": null,
            "align_content": null,
            "visibility": null,
            "align_self": null,
            "height": null,
            "min_height": null,
            "padding": null,
            "grid_auto_rows": null,
            "grid_gap": null,
            "max_width": null,
            "order": null,
            "_view_module_version": "1.2.0",
            "grid_template_areas": null,
            "object_position": null,
            "object_fit": null,
            "grid_auto_columns": null,
            "margin": null,
            "display": null,
            "left": null
          },
          "model_module_version": "1.2.0"
        }
      }
    }
  },
  "cells": [
    {
      "cell_type": "markdown",
      "metadata": {
        "id": "view-in-github",
        "colab_type": "text"
      },
      "source": [
        "<a href=\"https://colab.research.google.com/github/AistisM/Inspirit-AI/blob/main/Final_Project_Part_2.ipynb\" target=\"_parent\"><img src=\"https://colab.research.google.com/assets/colab-badge.svg\" alt=\"Open In Colab\"/></a>"
      ]
    },
    {
      "cell_type": "markdown",
      "metadata": {
        "id": "m0ygrZd3dmu5"
      },
      "source": [
        "# Classifying Voice Commands\n",
        "\n",
        "For voice commands, Siri needs to be able to figure out *what* the speaker wants, and then *how* to accomplish that request. \n",
        "\n",
        "<img src=\"https://www.cheatsheet.com/wp-content/uploads/2016/01/Siri-in-iOS-9-640x305.png\" width=400>\n",
        "\n",
        "The focus of this notebook is predicting the 'what', in other words, the **intent** of a voice command.\n",
        "\n",
        "Remember that this is part (a) of our two-part goal.\n",
        "\n",
        "---"
      ]
    },
    {
      "cell_type": "markdown",
      "metadata": {
        "id": "dlE9nndIa-4-"
      },
      "source": [
        "In this notebook we'll be:\n",
        "*   Preprocessing the Dataset for the ML models\n",
        "*   Implementing a Pretrained BERT model"
      ]
    },
    {
      "cell_type": "markdown",
      "metadata": {
        "id": "irPDgkzsdguU"
      },
      "source": [
        "## Sentence Level Classification\n",
        "\n",
        "\n",
        "\n",
        "\n",
        "Here is where our friend BERT comes in to help us. As a reminder, **BERT** stands for **B**idirectional **E**ncoder **R**epresentations from **T**ransformers, and is a novel model architecture that uses both the left and right *context* words in a sequence to generate good embeddings for words. \n",
        "\n",
        "We can make use of existing Pytorch APIs for BERT that will allow us to convert our voice command sequence data into the format that the BERT model expects, and then use *pretrained* BERT for our classification task.\n",
        "\n",
        "<img src=\"https://pytorch.org/tutorials/_images/bert.png\" height=\"300\">\n",
        "\n",
        "Note that there are many available pretrained BERT models with varying attributes such as: the language of the corpus for training, how many layers and attention heads are used, if the corpus for pretraining contains uncased or cased words, and so on. We will use the cased BERT base, which is the architecture described in the slides (12 layers - 6 layers within the encoder and 6 layers within the decoder - and 12 attention heads), and is trained on cased English text.\n",
        "\n",
        "\n",
        "\n"
      ]
    },
    {
      "cell_type": "markdown",
      "metadata": {
        "id": "Nmzc3C9XkIKL"
      },
      "source": [
        "**IMPORTANT**: Since the BERT model we will be using in this notebook is so large, we need to do one step before continuing. Please go to the 'Runtime' tab, and click on 'Change Runtime Type'; then select **GPU** under the dropdown for Hardware accelerator."
      ]
    },
    {
      "cell_type": "code",
      "metadata": {
        "id": "PjzYKqcweS2F",
        "cellView": "form",
        "colab": {
          "base_uri": "https://localhost:8080/"
        },
        "outputId": "d0888a4b-f64b-4a86-da47-a3d7fe9753c8"
      },
      "source": [
        "#@title Run this code to get started\n",
        "%tensorflow_version 2.x\n",
        "%pip install -q transformers\n",
        "\n",
        "from urllib.request import urlretrieve\n",
        "from pathlib import Path\n",
        "import matplotlib.pyplot as plt\n",
        "import numpy as np\n",
        "import pandas as pd\n",
        "\n",
        "SNIPS_DATA_BASE_URL = (\n",
        "    \"https://github.com/ogrisel/slot_filling_and_intent_detection_of_SLU/blob/\"\n",
        "    \"master/data/snips/\"\n",
        ")\n",
        "for filename in [\"train\", \"valid\", \"test\", \"vocab.intent\", \"vocab.slot\"]:\n",
        "    path = Path(filename)\n",
        "    if not path.exists():\n",
        "        print(f\"Downloading {filename}...\")\n",
        "        urlretrieve(SNIPS_DATA_BASE_URL + filename + \"?raw=true\", path)\n",
        "\n",
        "\n",
        "def parse_line(line):\n",
        "    data, intent_label = line.split(\" <=> \")\n",
        "    items = data.split()\n",
        "    words = [item.rsplit(\":\", 1)[0]for item in items]\n",
        "    word_labels = [item.rsplit(\":\", 1)[1]for item in items]\n",
        "    return {\n",
        "        \"intent_label\": intent_label, ### YOUR CODE HERE ###, \n",
        "        \"words\": \" \".join(words),\n",
        "        \"word_labels\": \" \".join(word_labels), ### YOUR CODE HERE ###,\n",
        "        \"length\": len(words), ### YOUR CODE HERE ###,\n",
        "    }\n",
        "\n",
        "\n",
        "train_lines = Path(\"train\").read_text().strip().splitlines()\n",
        "valid_lines = Path(\"valid\").read_text().strip().splitlines()\n",
        "test_lines = Path(\"test\").read_text().strip().splitlines()\n",
        "\n",
        "df_train = pd.DataFrame([parse_line(line) for line in train_lines])\n",
        "df_valid = pd.DataFrame([parse_line(line) for line in valid_lines])\n",
        "df_test = pd.DataFrame([parse_line(line) for line in test_lines])"
      ],
      "execution_count": null,
      "outputs": [
        {
          "output_type": "stream",
          "text": [
            "\u001b[K     |████████████████████████████████| 2.3MB 27.7MB/s \n",
            "\u001b[K     |████████████████████████████████| 901kB 50.2MB/s \n",
            "\u001b[K     |████████████████████████████████| 3.3MB 40.4MB/s \n",
            "\u001b[?25hDownloading train...\n",
            "Downloading valid...\n",
            "Downloading test...\n",
            "Downloading vocab.intent...\n",
            "Downloading vocab.slot...\n"
          ],
          "name": "stdout"
        }
      ]
    },
    {
      "cell_type": "markdown",
      "metadata": {
        "id": "PAc67kxQftEV"
      },
      "source": [
        "Remember that `df_train`, `df_valid`, and `df_test` are the Pandas Dataframes that store our training, validation, and test datapoints."
      ]
    },
    {
      "cell_type": "markdown",
      "metadata": {
        "id": "D0ZWheGxd5XT"
      },
      "source": [
        "### Step 1: Tokenize our Data\n",
        "\n",
        "BERT expects input sequences to be broken down into individual *tokens*; a `[CLS]` token marks the beginning and a `[SEP]` marks the end of a given sequence (as seen in the red input sentences in the image above).\n",
        "\n",
        "The `[CLS]` token is used by BERT for the pre-training task for sequence classification.\n",
        "\n",
        "The `[SEP]` token is a separator for the pre-training task that classifies if a pair of sentences are consecutive in a corpus or not, i.e. next sentence prediction (NSP)."
      ]
    },
    {
      "cell_type": "code",
      "metadata": {
        "id": "2VLvVuJUchlR",
        "colab": {
          "base_uri": "https://localhost:8080/",
          "height": 163,
          "referenced_widgets": [
            "36e0ba5511a345d0969e91396d69a820",
            "8da15a9ac3104a2d80497227be815752",
            "d5a8455a9d884d7eb2ba74d7ab60c1fc",
            "60eeff254f1e40f08bf379a1c0050b26",
            "729df0cb54e94900a917a0d8a606fa5f",
            "fba2be4055d540f1a10e6bb0b59eb491",
            "edfe9992433b4786ab6e38cb2b465085",
            "663c69a6a874471ea88eea935272701b",
            "92db2acb57e243629957fe12660557a9",
            "743cd000c6c74d9897966c26332d7a5e",
            "b798068d33964c2d9ec30f2b4206c351",
            "7f643b158f994fcf8728942641265a4a",
            "0a9c26ef5b414b9b982b38c21da8708d",
            "418e1177d5f9423c82965a3de83ff8c8",
            "d067081449094dfab51599eed7d127ad",
            "4697ff271798452aaa014d9fd5eec750",
            "36f23d643cd04e039e0c18ad1676fa2e",
            "a444ea723b554fdabb262a924abe3a20",
            "6f5116d1c7d84091b285f184bcf6c593",
            "63f484ff5b4e423dbfd95c036ea20094",
            "c055659c5eda4b1eb1268e4f4e9b37af",
            "290df48f04334ebe8aa6138b2a4414e7",
            "e952ecef55a94e9cbfabba6c05abfef3",
            "98b0f5d48fbe4d55a179e5746c9a6c98"
          ]
        },
        "outputId": "044e40d4-f5bd-409f-96d4-d618dcf9d972"
      },
      "source": [
        "# Import the BERT tokenizer and utilize the BERT base pretrained model\n",
        "from transformers import BertTokenizer\n",
        "\n",
        "model_name = \"bert-base-cased\"\n",
        "tokenizer = BertTokenizer.from_pretrained(model_name)"
      ],
      "execution_count": null,
      "outputs": [
        {
          "output_type": "display_data",
          "data": {
            "application/vnd.jupyter.widget-view+json": {
              "model_id": "36e0ba5511a345d0969e91396d69a820",
              "version_minor": 0,
              "version_major": 2
            },
            "text/plain": [
              "HBox(children=(FloatProgress(value=0.0, description='Downloading', max=213450.0, style=ProgressStyle(descripti…"
            ]
          },
          "metadata": {
            "tags": []
          }
        },
        {
          "output_type": "stream",
          "text": [
            "\n"
          ],
          "name": "stdout"
        },
        {
          "output_type": "display_data",
          "data": {
            "application/vnd.jupyter.widget-view+json": {
              "model_id": "92db2acb57e243629957fe12660557a9",
              "version_minor": 0,
              "version_major": 2
            },
            "text/plain": [
              "HBox(children=(FloatProgress(value=0.0, description='Downloading', max=29.0, style=ProgressStyle(description_w…"
            ]
          },
          "metadata": {
            "tags": []
          }
        },
        {
          "output_type": "stream",
          "text": [
            "\n"
          ],
          "name": "stdout"
        },
        {
          "output_type": "display_data",
          "data": {
            "application/vnd.jupyter.widget-view+json": {
              "model_id": "36f23d643cd04e039e0c18ad1676fa2e",
              "version_minor": 0,
              "version_major": 2
            },
            "text/plain": [
              "HBox(children=(FloatProgress(value=0.0, description='Downloading', max=435797.0, style=ProgressStyle(descripti…"
            ]
          },
          "metadata": {
            "tags": []
          }
        },
        {
          "output_type": "stream",
          "text": [
            "\n"
          ],
          "name": "stdout"
        }
      ]
    },
    {
      "cell_type": "markdown",
      "metadata": {
        "id": "CPdGS07td863"
      },
      "source": [
        "How many unique tokens in this BERT model are there?"
      ]
    },
    {
      "cell_type": "code",
      "metadata": {
        "id": "NDKUw6svd9Im",
        "colab": {
          "base_uri": "https://localhost:8080/"
        },
        "outputId": "1d7027a0-75f0-47dc-84e3-f0d2bcb82242"
      },
      "source": [
        "tokenizer.vocab_size"
      ],
      "execution_count": null,
      "outputs": [
        {
          "output_type": "execute_result",
          "data": {
            "text/plain": [
              "28996"
            ]
          },
          "metadata": {
            "tags": []
          },
          "execution_count": 3
        }
      ]
    },
    {
      "cell_type": "markdown",
      "metadata": {
        "id": "C7gd0Pw8eA7B"
      },
      "source": [
        "Wow - there's roughly 30k tokens that BERT knows! <img src=\"https://i7.pngguru.com/preview/625/201/218/emoji-iphone-computer-icons-clip-art-emoji-thumbnail.jpg\" width=20>\n",
        "\n",
        "Let's see exactly how the BERT tokenizer works on one training example."
      ]
    },
    {
      "cell_type": "code",
      "metadata": {
        "id": "wf4zLAdaeBR1",
        "colab": {
          "base_uri": "https://localhost:8080/"
        },
        "outputId": "b037f623-c298-45dd-baa8-945ef6014648"
      },
      "source": [
        "# Print the first training data sequence\n",
        "first_sentence = df_train.iloc[0][\"words\"]\n",
        "print(first_sentence)\n",
        "print(\"This sentence contains {} words.\".format(len(first_sentence.split(\" \"))))"
      ],
      "execution_count": null,
      "outputs": [
        {
          "output_type": "stream",
          "text": [
            "Add Don and Sherri to my Meditate to Sounds of Nature playlist\n",
            "This sentence contains 12 words.\n"
          ],
          "name": "stdout"
        }
      ]
    },
    {
      "cell_type": "code",
      "metadata": {
        "id": "kusXEf2JeFDg",
        "colab": {
          "base_uri": "https://localhost:8080/"
        },
        "outputId": "112df7cc-943d-4ff6-c3d2-a71506da585d"
      },
      "source": [
        "tokens = tokenizer.tokenize(first_sentence)\n",
        "for t in tokens:\n",
        "  print(t)\n",
        "print(\"\\nThis sentence turns into {} tokens.\".format(len(tokens)))"
      ],
      "execution_count": null,
      "outputs": [
        {
          "output_type": "stream",
          "text": [
            "Ad\n",
            "##d\n",
            "Don\n",
            "and\n",
            "She\n",
            "##rri\n",
            "to\n",
            "my\n",
            "Me\n",
            "##dit\n",
            "##ate\n",
            "to\n",
            "Sounds\n",
            "of\n",
            "Nature\n",
            "play\n",
            "##list\n",
            "\n",
            "This sentence turns into 17 tokens.\n"
          ],
          "name": "stdout"
        }
      ]
    },
    {
      "cell_type": "markdown",
      "metadata": {
        "id": "rUUM0qHugJcw"
      },
      "source": [
        "Hmmm, why are there 17 *tokens* now but only 12 *words* within the original sequence.\n",
        "\n",
        "It's because BERT uses something called subword tokenization!\n",
        "\n",
        "**Subword tokenization** may break some words into smaller units and doesn't always use a 1:1 mapping of words to tokens. Because of subword tokenization within BERT, the length of tokenized sentences is likely to be larger than the original number of words in the sentence.\n",
        "\n",
        "**Discuss:**\n",
        "\n",
        "Why is it interesting and useful to use subword tokenization for generic language models such as BERT?"
      ]
    },
    {
      "cell_type": "markdown",
      "metadata": {
        "id": "gJGWM5J-gOZV"
      },
      "source": [
        "### Step 2: Encoding Tokens\n",
        "\n",
        "Each token is mapped to a unique integer id that makes it fast to lookup the correct column in the input layer token embedding (seen in yellow below).\n",
        "\n",
        "<img src=\"https://miro.medium.com/max/1496/1*fywysLzEbXxEqkPeIUWaJw.png\" width=\"500\">"
      ]
    },
    {
      "cell_type": "code",
      "metadata": {
        "id": "_3yBoMYqgG0R",
        "colab": {
          "base_uri": "https://localhost:8080/"
        },
        "outputId": "d47bc060-7fe2-4a2c-ab7e-5f88157306bb"
      },
      "source": [
        "# See the first 10 (token,id) pairs within BERT.\n",
        "bert_vocab_items = list(tokenizer.vocab.items())\n",
        "bert_vocab_items[:10]"
      ],
      "execution_count": null,
      "outputs": [
        {
          "output_type": "execute_result",
          "data": {
            "text/plain": [
              "[('[PAD]', 0),\n",
              " ('[unused1]', 1),\n",
              " ('[unused2]', 2),\n",
              " ('[unused3]', 3),\n",
              " ('[unused4]', 4),\n",
              " ('[unused5]', 5),\n",
              " ('[unused6]', 6),\n",
              " ('[unused7]', 7),\n",
              " ('[unused8]', 8),\n",
              " ('[unused9]', 9)]"
            ]
          },
          "metadata": {
            "tags": []
          },
          "execution_count": 6
        }
      ]
    },
    {
      "cell_type": "code",
      "metadata": {
        "id": "TOnuTWJvgQ7P",
        "colab": {
          "base_uri": "https://localhost:8080/"
        },
        "outputId": "f3b27c3a-32c9-4346-8863-8f3377b4db8d"
      },
      "source": [
        "# See more (token,id) examples within BERT's vocab.\n",
        "bert_vocab_items[1100:1110]"
      ],
      "execution_count": null,
      "outputs": [
        {
          "output_type": "execute_result",
          "data": {
            "text/plain": [
              "[('－', 1100),\n",
              " ('／', 1101),\n",
              " ('：', 1102),\n",
              " ('the', 1103),\n",
              " ('of', 1104),\n",
              " ('and', 1105),\n",
              " ('to', 1106),\n",
              " ('in', 1107),\n",
              " ('was', 1108),\n",
              " ('The', 1109)]"
            ]
          },
          "metadata": {
            "tags": []
          },
          "execution_count": 7
        }
      ]
    },
    {
      "cell_type": "code",
      "metadata": {
        "id": "ZjTk9qkyvViH",
        "colab": {
          "base_uri": "https://localhost:8080/"
        },
        "outputId": "a259e1f8-9a9e-4c32-d79e-d95549dca3aa"
      },
      "source": [
        "# Why are these tokens interesting?\n",
        "bert_vocab_items[100:104]"
      ],
      "execution_count": null,
      "outputs": [
        {
          "output_type": "execute_result",
          "data": {
            "text/plain": [
              "[('[UNK]', 100), ('[CLS]', 101), ('[SEP]', 102), ('[MASK]', 103)]"
            ]
          },
          "metadata": {
            "tags": []
          },
          "execution_count": 8
        }
      ]
    },
    {
      "cell_type": "markdown",
      "metadata": {
        "id": "1RJypthuvYns"
      },
      "source": [
        "(The `[UNK]` token is used to replace tokens that BERT doesn't recognize. If there is no way to split a word into subtokens, the whole word becomes `[UNK]`.)\n",
        "\n",
        "`[CLS]` marks the beginning of a sentence, and `[SEP]` marks the end. \n",
        "\n",
        "`[MASK]` is used by BERT in the pre-training task called MLM (Masked Language Model) where it learns to predict the original word if it's masked out in a sentence."
      ]
    },
    {
      "cell_type": "markdown",
      "metadata": {
        "id": "qbCq5LpQgVkF"
      },
      "source": [
        "Let's analyze the first training sequence again."
      ]
    },
    {
      "cell_type": "code",
      "metadata": {
        "id": "_pQUHmuDgSyn",
        "colab": {
          "base_uri": "https://localhost:8080/"
        },
        "outputId": "348c29af-b0c0-4447-e919-ffd4bf1cfac2"
      },
      "source": [
        "# See the integer indexes for the token embeddings of the first sentence.\n",
        "idxs = tokenizer.encode(first_sentence)\n",
        "print(idxs)"
      ],
      "execution_count": null,
      "outputs": [
        {
          "output_type": "stream",
          "text": [
            "[101, 24930, 1181, 1790, 1105, 1153, 14791, 1106, 1139, 2508, 17903, 2193, 1106, 10560, 1104, 7009, 1505, 7276, 102]\n"
          ],
          "name": "stdout"
        }
      ]
    },
    {
      "cell_type": "code",
      "metadata": {
        "id": "Ht-HqEmMgXZy",
        "colab": {
          "base_uri": "https://localhost:8080/",
          "height": 35
        },
        "outputId": "7d6c1b1e-eb51-4530-bda0-04ee6bc81e1d"
      },
      "source": [
        "# Decode the encoding, which should produce the original sequence.\n",
        "tokenizer.decode(idxs)"
      ],
      "execution_count": null,
      "outputs": [
        {
          "output_type": "execute_result",
          "data": {
            "application/vnd.google.colaboratory.intrinsic+json": {
              "type": "string"
            },
            "text/plain": [
              "'[CLS] Add Don and Sherri to my Meditate to Sounds of Nature playlist [SEP]'"
            ]
          },
          "metadata": {
            "tags": []
          },
          "execution_count": 10
        }
      ]
    },
    {
      "cell_type": "markdown",
      "metadata": {
        "id": "FzWrP7kYgdVo"
      },
      "source": [
        "### Step 3: Padding Tokenized Sequences"
      ]
    },
    {
      "cell_type": "markdown",
      "metadata": {
        "id": "0XlouEr3ggRN"
      },
      "source": [
        "#### Exercise 1\n",
        "\n",
        "In the Training Data Analysis section of the 1st notebook, we created a histogram according to the lengths of training sequences. Let's take a look at the histogram of the **tokenized** sequences now."
      ]
    },
    {
      "cell_type": "code",
      "metadata": {
        "id": "uUSq9VhTggmm",
        "colab": {
          "base_uri": "https://localhost:8080/",
          "height": 295
        },
        "outputId": "50d0fb10-28a5-41ad-f857-7dc135bfcf08"
      },
      "source": [
        "# Print histogram of training tokenized sequence lengths.\n",
        "# Hint: use tokenizer.encode on every sequence within df_train\n",
        "# & get the lengths; then use plt.hist()\n",
        "\n",
        "train_sequence_lengths = [len(tokenizer.encode(x)) for x in df_train['words']] ### YOUR CODE HERE ###\n",
        "\n",
        "plt.hist(train_sequence_lengths)\n",
        "plt.xlabel(\"Number of tokens per sequence\")\n",
        "plt.ylabel(\"Count of sequences\")\n",
        "plt.title(\"Token Sequence Length Histogram\")\n",
        "plt.show()"
      ],
      "execution_count": null,
      "outputs": [
        {
          "output_type": "display_data",
          "data": {
            "image/png": "[encoded data removed]",
            "text/plain": [
              "<Figure size 432x288 with 1 Axes>"
            ]
          },
          "metadata": {
            "tags": [],
            "needs_background": "light"
          }
        }
      ]
    },
    {
      "cell_type": "markdown",
      "metadata": {
        "id": "KN_8RLj2hRiD"
      },
      "source": [
        "What is the maximum length of any given tokenized training sequence?\n",
        "\n",
        "*Remember that the maximum of the original voice command lengths was 35 words per sequence.*"
      ]
    },
    {
      "cell_type": "code",
      "metadata": {
        "id": "6Os61ui7hPxH",
        "colab": {
          "base_uri": "https://localhost:8080/"
        },
        "outputId": "36e87d50-1083-4cef-a693-a85a651e58d1"
      },
      "source": [
        "max_token_len = max(train_sequence_lengths)\n",
        "print(\"Maximum tokenized sequence length: {} tokens per sequence\".format(max_token_len))"
      ],
      "execution_count": null,
      "outputs": [
        {
          "output_type": "stream",
          "text": [
            "Maximum tokenized sequence length: 43 tokens per sequence\n"
          ],
          "name": "stdout"
        }
      ]
    },
    {
      "cell_type": "markdown",
      "metadata": {
        "id": "SyCTT3WPhpec"
      },
      "source": [
        "**Transfer learning**, i.e. using *pretrained* BERT applied to our new dataset and sentiment classification task, requires that the sequences are **padded**, which means they all have the same length.\n",
        "\n",
        "The above histogram shows that after tokenization, 43 tokens is long enough to represent all the voice commands in the training set."
      ]
    },
    {
      "cell_type": "markdown",
      "metadata": {
        "id": "6LoeTBKEhrev"
      },
      "source": [
        "### Preprocessing Full Dataset\n",
        "\n",
        "<img src=\"https://miro.medium.com/max/2152/1*vNGH3DTu83pZr3gVHsz7yg.png\" width=500>\n"
      ]
    },
    {
      "cell_type": "markdown",
      "metadata": {
        "id": "ZJGK5kL9xHtH"
      },
      "source": [
        "Let's now encode the full train, validation, and test sets with the BERT tokenizer to get padded integer numpy arrays."
      ]
    },
    {
      "cell_type": "code",
      "metadata": {
        "id": "nFDJmLtghpuX"
      },
      "source": [
        "def encode_dataset(text_sequences):\n",
        "    # Create token_ids array (initialized to all zeros), where \n",
        "    # rows are a sequence and columns are encoding ids\n",
        "    # of each token in given sequence.\n",
        "    token_ids = np.zeros(shape=(len(text_sequences), max_token_len),\n",
        "                         dtype=np.int32)\n",
        "    \n",
        "    for i, text_sequence in enumerate(text_sequences):\n",
        "        encoded = tokenizer.encode(text_sequence)\n",
        "        token_ids[i, :len(encoded)] = encoded\n",
        "\n",
        "    attention_masks = (token_ids != 0).astype(np.int32)\n",
        "    return {\"input_ids\": token_ids, \"attention_masks\": attention_masks}"
      ],
      "execution_count": null,
      "outputs": []
    },
    {
      "cell_type": "code",
      "metadata": {
        "id": "fJ2GF91YhvIB"
      },
      "source": [
        "encoded_train = encode_dataset(df_train[\"words\"])"
      ],
      "execution_count": null,
      "outputs": []
    },
    {
      "cell_type": "markdown",
      "metadata": {
        "id": "zlfF7RWKh5rV"
      },
      "source": [
        "Let's see what the output of the function `encode_dataset` is on the training data:"
      ]
    },
    {
      "cell_type": "code",
      "metadata": {
        "id": "qA4uyGmrhwqq",
        "colab": {
          "base_uri": "https://localhost:8080/"
        },
        "outputId": "fc675a6e-6031-4619-e462-6e294bf2e2eb"
      },
      "source": [
        "encoded_train[\"input_ids\"]"
      ],
      "execution_count": null,
      "outputs": [
        {
          "output_type": "execute_result",
          "data": {
            "text/plain": [
              "array([[  101, 24930,  1181, ...,     0,     0,     0],\n",
              "       [  101,  1508,  1244, ...,     0,     0,     0],\n",
              "       [  101,  5194,  1103, ...,     0,     0,     0],\n",
              "       ...,\n",
              "       [  101, 27640,  1116, ...,     0,     0,     0],\n",
              "       [  101,  5979,  6608, ...,     0,     0,     0],\n",
              "       [  101,  1327,  2523, ...,     0,     0,     0]], dtype=int32)"
            ]
          },
          "metadata": {
            "tags": []
          },
          "execution_count": 15
        }
      ]
    },
    {
      "cell_type": "code",
      "metadata": {
        "id": "ExBeEvwQh7h-",
        "colab": {
          "base_uri": "https://localhost:8080/"
        },
        "outputId": "7a069628-74bc-4553-f06e-795c19872de0"
      },
      "source": [
        "encoded_train[\"attention_masks\"]"
      ],
      "execution_count": null,
      "outputs": [
        {
          "output_type": "execute_result",
          "data": {
            "text/plain": [
              "array([[1, 1, 1, ..., 0, 0, 0],\n",
              "       [1, 1, 1, ..., 0, 0, 0],\n",
              "       [1, 1, 1, ..., 0, 0, 0],\n",
              "       ...,\n",
              "       [1, 1, 1, ..., 0, 0, 0],\n",
              "       [1, 1, 1, ..., 0, 0, 0],\n",
              "       [1, 1, 1, ..., 0, 0, 0]], dtype=int32)"
            ]
          },
          "metadata": {
            "tags": []
          },
          "execution_count": 16
        }
      ]
    },
    {
      "cell_type": "markdown",
      "metadata": {
        "id": "pD13PjPih-2A"
      },
      "source": [
        "**Discuss**:\n",
        "\n",
        "What is the purpose of the attention_masks array?\n",
        "(Hint: Think about what each row and column corresponds to).\n"
      ]
    },
    {
      "cell_type": "markdown",
      "metadata": {
        "id": "KSEQpuOSiAtp"
      },
      "source": [
        "#### Exercise 2\n",
        "\n",
        "Let's also create the encoding id and attention mask arrays for the validation and test sets:"
      ]
    },
    {
      "cell_type": "code",
      "metadata": {
        "id": "KsHrCy2miCag"
      },
      "source": [
        "# Create the necessary np arrays using the encode_dataset function\n",
        "# and store your results in encoded_valid, and encoded_test.\n",
        "\n",
        "### YOUR CODE HERE ###\n",
        "\n",
        "encoded_valid = encode_dataset(df_valid[\"words\"])\n",
        "encoded_test = encode_dataset(df_test[\"words\"])"
      ],
      "execution_count": null,
      "outputs": []
    },
    {
      "cell_type": "markdown",
      "metadata": {
        "id": "kPj_8jJPiKIf"
      },
      "source": [
        "#### Encoding the Sequence Classification Targets\n",
        "\n",
        "Aside from encodings of the tokenized word sequences, we also need to get the encodings of the target intent classification labels."
      ]
    },
    {
      "cell_type": "code",
      "metadata": {
        "id": "t-eOu3PbiKWx",
        "colab": {
          "base_uri": "https://localhost:8080/"
        },
        "outputId": "fb3d6f7c-0819-4664-8837-c6154bcdd601"
      },
      "source": [
        "# Build a map from target intent label to a unique id.\n",
        "intent_names = Path(\"vocab.intent\").read_text().split()\n",
        "intent_map = dict((label, idx) for idx, label in enumerate(intent_names))\n",
        "intent_map"
      ],
      "execution_count": null,
      "outputs": [
        {
          "output_type": "execute_result",
          "data": {
            "text/plain": [
              "{'AddToPlaylist': 0,\n",
              " 'BookRestaurant': 1,\n",
              " 'GetWeather': 2,\n",
              " 'PlayMusic': 3,\n",
              " 'RateBook': 4,\n",
              " 'SearchCreativeWork': 5,\n",
              " 'SearchScreeningEvent': 6}"
            ]
          },
          "metadata": {
            "tags": []
          },
          "execution_count": 18
        }
      ]
    },
    {
      "cell_type": "code",
      "metadata": {
        "id": "v5bTeYoRiNVQ",
        "colab": {
          "base_uri": "https://localhost:8080/"
        },
        "outputId": "4d1dbb5b-87d1-49f2-b060-34c45057c835"
      },
      "source": [
        "# Convert list of target labels into their corresponding unique id.\n",
        "intent_train = df_train[\"intent_label\"].map(intent_map).values\n",
        "intent_train"
      ],
      "execution_count": null,
      "outputs": [
        {
          "output_type": "execute_result",
          "data": {
            "text/plain": [
              "array([0, 0, 0, ..., 6, 6, 6])"
            ]
          },
          "metadata": {
            "tags": []
          },
          "execution_count": 19
        }
      ]
    },
    {
      "cell_type": "code",
      "metadata": {
        "id": "qnzGflSGiPC0",
        "colab": {
          "base_uri": "https://localhost:8080/"
        },
        "outputId": "de92c3d7-988f-4b56-f123-33aa3ba3d10a"
      },
      "source": [
        "# Sanity check: the number of sentences that belongs to each class\n",
        "for i in range(7):\n",
        "  print(len(intent_train[intent_train == i]))"
      ],
      "execution_count": null,
      "outputs": [
        {
          "output_type": "stream",
          "text": [
            "1842\n",
            "1873\n",
            "1900\n",
            "1900\n",
            "1856\n",
            "1854\n",
            "1859\n"
          ],
          "name": "stdout"
        }
      ]
    },
    {
      "cell_type": "markdown",
      "metadata": {
        "id": "nbY64mzriRb6"
      },
      "source": [
        "<img src=\"https://drive.google.com/uc?id=1i9qommblASpRkuJWCtyRo2E1xYd7IgfA\" height=\"200\">\n",
        "\n",
        "Great! This is the same as we found within the first notebook (screenshot of that output above)."
      ]
    },
    {
      "cell_type": "markdown",
      "metadata": {
        "id": "w6WNpz_1iZ1m"
      },
      "source": [
        "##### Exercise 3\n",
        "\n",
        "Lastly, we need to encode the intent labels for the validation and training sets as well."
      ]
    },
    {
      "cell_type": "code",
      "metadata": {
        "id": "YjouAdSiiRtp"
      },
      "source": [
        "# Create two variables named intent_valid and intent_test\n",
        "# Hint: look at how intent_train is defined a few cells above. \n",
        "\n",
        "### YOUR CODE HERE ###\n",
        "intent_valid = df_valid[\"intent_label\"].map(intent_map).values\n",
        "intent_test = df_test[\"intent_label\"].map(intent_map).values"
      ],
      "execution_count": null,
      "outputs": []
    },
    {
      "cell_type": "markdown",
      "metadata": {
        "id": "LBNRFoRIihgh"
      },
      "source": [
        "### Using a Pretrained BERT model\n",
        "\n",
        "Yay - we have all the pre-processing steps done! Now it's time to explore pretrained BERT. <img src=\"https://i.pinimg.com/originals/58/e9/78/58e97802c32da4c19d8429823c3201c2.jpg\" width=25>"
      ]
    },
    {
      "cell_type": "code",
      "metadata": {
        "id": "QdsPIw6Uih_d",
        "colab": {
          "base_uri": "https://localhost:8080/",
          "height": 386,
          "referenced_widgets": [
            "dd814bb511554516b99aba32e33828c0",
            "c8e09439e2044583b308bc3c191d6949",
            "ad037cd7aac94ac1ab48c3c2c4231ca5",
            "a7e0b7f6e74946f28d9f89d23c526b65",
            "613fbb73452a4e41be6f2bf134608b9b",
            "4050ca65bdce46ceb361ac5050808dfc",
            "aa50089099a34a77a78cb060e19b507c",
            "1fe633cb958c49ec8b0d4a0742ed15fb",
            "bf428af1a6044f81be3710e9d0ff407d",
            "ddcc8c4630ce425fa7bb2bc5b0e2119e",
            "0a6dfa7b156047f6bcba45ee5bd23e5b",
            "583f57f698fd45d5bf59cebbc5e237e6",
            "e6b7df7980a8434a9547c53660d321ba",
            "c4b946ee9e9c46f8bb319de53489a8d4",
            "0082a5dc9b14459cb00b7181eeb0ae7a",
            "527c2cad2ece4de48dd8399a6c47bab8"
          ]
        },
        "outputId": "2c2ff715-edde-4e42-c418-5e1061d84a0b"
      },
      "source": [
        "from transformers import TFBertModel\n",
        "\n",
        "# recall that we earlier defined model_name to be \"bert-base-cased\"\n",
        "base_bert_model = TFBertModel.from_pretrained(model_name)\n",
        "base_bert_model.summary()"
      ],
      "execution_count": null,
      "outputs": [
        {
          "output_type": "display_data",
          "data": {
            "application/vnd.jupyter.widget-view+json": {
              "model_id": "dd814bb511554516b99aba32e33828c0",
              "version_minor": 0,
              "version_major": 2
            },
            "text/plain": [
              "HBox(children=(FloatProgress(value=0.0, description='Downloading', max=570.0, style=ProgressStyle(description_…"
            ]
          },
          "metadata": {
            "tags": []
          }
        },
        {
          "output_type": "stream",
          "text": [
            "\n"
          ],
          "name": "stdout"
        },
        {
          "output_type": "display_data",
          "data": {
            "application/vnd.jupyter.widget-view+json": {
              "model_id": "bf428af1a6044f81be3710e9d0ff407d",
              "version_minor": 0,
              "version_major": 2
            },
            "text/plain": [
              "HBox(children=(FloatProgress(value=0.0, description='Downloading', max=526681800.0, style=ProgressStyle(descri…"
            ]
          },
          "metadata": {
            "tags": []
          }
        },
        {
          "output_type": "stream",
          "text": [
            "\n"
          ],
          "name": "stdout"
        },
        {
          "output_type": "stream",
          "text": [
            "Some layers from the model checkpoint at bert-base-cased were not used when initializing TFBertModel: ['nsp___cls', 'mlm___cls']\n",
            "- This IS expected if you are initializing TFBertModel from the checkpoint of a model trained on another task or with another architecture (e.g. initializing a BertForSequenceClassification model from a BertForPreTraining model).\n",
            "- This IS NOT expected if you are initializing TFBertModel from the checkpoint of a model that you expect to be exactly identical (initializing a BertForSequenceClassification model from a BertForSequenceClassification model).\n",
            "All the layers of TFBertModel were initialized from the model checkpoint at bert-base-cased.\n",
            "If your task is similar to the task the model of the checkpoint was trained on, you can already use TFBertModel for predictions without further training.\n"
          ],
          "name": "stderr"
        },
        {
          "output_type": "stream",
          "text": [
            "Model: \"tf_bert_model\"\n",
            "_________________________________________________________________\n",
            "Layer (type)                 Output Shape              Param #   \n",
            "=================================================================\n",
            "bert (TFBertMainLayer)       multiple                  108310272 \n",
            "=================================================================\n",
            "Total params: 108,310,272\n",
            "Trainable params: 108,310,272\n",
            "Non-trainable params: 0\n",
            "_________________________________________________________________\n"
          ],
          "name": "stdout"
        }
      ]
    },
    {
      "cell_type": "markdown",
      "metadata": {
        "id": "vumnko-qiy-F"
      },
      "source": [
        "Let's see what the pretrained BERT model outputs when we feed it our encoded validation set:"
      ]
    },
    {
      "cell_type": "code",
      "metadata": {
        "id": "jZEJmpSPjQyT",
        "colab": {
          "base_uri": "https://localhost:8080/"
        },
        "outputId": "aa175ffa-c97b-4d05-b818-112c34148581"
      },
      "source": [
        "# Note: This cell might take a bit of time to run.\n",
        "outputs = base_bert_model(encoded_valid)\n",
        "print(outputs)"
      ],
      "execution_count": null,
      "outputs": [
        {
          "output_type": "stream",
          "text": [
            "TFBaseModelOutputWithPooling(last_hidden_state=<tf.Tensor: shape=(700, 43, 768), dtype=float32, numpy=\n",
            "array([[[ 0.44829482,  0.34551877, -0.12059338, ..., -0.47954434,\n",
            "          0.3294099 ,  0.29919916],\n",
            "        [ 0.7791122 , -0.24239415,  0.26998904, ..., -0.13725905,\n",
            "          0.04817604, -0.04468788],\n",
            "        [ 0.24025683,  0.34609917,  0.3942157 , ..., -1.0401466 ,\n",
            "         -0.6142864 ,  0.06264609],\n",
            "        ...,\n",
            "        [-0.26403388, -0.52960396,  0.06245168, ..., -0.8165377 ,\n",
            "          0.48623538,  0.60629123],\n",
            "        [-0.25014323, -0.542558  ,  0.03234757, ..., -0.77552056,\n",
            "          0.49027258,  0.48865464],\n",
            "        [-0.24939582, -0.6393002 ,  0.11706158, ..., -0.79088527,\n",
            "          0.4130843 ,  0.5025904 ]],\n",
            "\n",
            "       [[ 0.4734648 ,  0.33372363, -0.21494408, ..., -0.242783  ,\n",
            "          0.19390468,  0.12717198],\n",
            "        [-0.01580945, -0.07547275,  0.27504155, ...,  0.5334339 ,\n",
            "          0.16437805, -0.10875937],\n",
            "        [-0.01982436, -0.22859775,  0.28969166, ...,  0.8494881 ,\n",
            "         -0.3568103 ,  0.03535286],\n",
            "        ...,\n",
            "        [-0.3191403 , -0.505852  , -0.04531287, ..., -0.60300785,\n",
            "          0.82991314,  0.6939239 ],\n",
            "        [-0.29483235, -0.50643694, -0.09919737, ..., -0.5614791 ,\n",
            "          0.8091621 ,  0.5651474 ],\n",
            "        [-0.27567285, -0.6392363 ,  0.03313175, ..., -0.64160794,\n",
            "          0.7480072 ,  0.5877967 ]],\n",
            "\n",
            "       [[ 0.26881164,  0.16104737,  0.0657623 , ..., -0.27151603,\n",
            "          0.19704016, -0.10406584],\n",
            "        [ 0.6724186 , -0.05340531, -0.16339612, ..., -0.3468731 ,\n",
            "          0.20269136,  0.10968643],\n",
            "        [ 0.1816617 , -0.0457251 , -0.4699394 , ..., -0.57827055,\n",
            "          0.58245236, -0.48883277],\n",
            "        ...,\n",
            "        [-0.28985435, -0.51401144,  0.10253842, ..., -0.6062695 ,\n",
            "          0.72311306,  0.5728445 ],\n",
            "        [-0.24113986, -0.5296709 ,  0.06920012, ..., -0.55306417,\n",
            "          0.6943906 ,  0.4698779 ],\n",
            "        [-0.2188406 , -0.6330198 ,  0.2186024 , ..., -0.56245404,\n",
            "          0.62151265,  0.43435866]],\n",
            "\n",
            "       ...,\n",
            "\n",
            "       [[ 0.46340013,  0.14384218, -0.13976192, ..., -0.25368252,\n",
            "          0.1810864 ,  0.12626708],\n",
            "        [ 0.95861334, -0.38641798,  0.44838274, ..., -0.5851752 ,\n",
            "          0.09163761,  0.2436786 ],\n",
            "        [ 0.7101885 ,  0.05051738, -0.25559643, ..., -0.15734917,\n",
            "          0.44102696,  0.2940401 ],\n",
            "        ...,\n",
            "        [-0.23238917, -0.5673508 ,  0.11617614, ..., -0.6344535 ,\n",
            "          0.6488069 ,  0.63006675],\n",
            "        [-0.20635235, -0.5829816 ,  0.06906611, ..., -0.5917094 ,\n",
            "          0.63121194,  0.5128238 ],\n",
            "        [-0.19820458, -0.6769595 ,  0.15622163, ..., -0.62301034,\n",
            "          0.57334167,  0.50629187]],\n",
            "\n",
            "       [[ 0.3221773 ,  0.15955691, -0.28593478, ..., -0.40306827,\n",
            "          0.2146613 ,  0.34723455],\n",
            "        [ 0.7457834 , -0.54813355,  0.819889  , ..., -0.6366843 ,\n",
            "          0.5343871 ,  0.3649284 ],\n",
            "        [ 0.05500264, -0.715425  , -0.17634659, ..., -0.38041714,\n",
            "          0.20007226,  0.61379933],\n",
            "        ...,\n",
            "        [-0.18517977, -0.5885923 ,  0.26266223, ..., -0.7523441 ,\n",
            "          0.44010255,  0.61275387],\n",
            "        [-0.16969843, -0.61460745,  0.21555793, ..., -0.64673734,\n",
            "          0.47919774,  0.4925111 ],\n",
            "        [-0.19285521, -0.6876196 ,  0.27444208, ..., -0.61796254,\n",
            "          0.45368186,  0.45652914]],\n",
            "\n",
            "       [[ 0.34660247,  0.2389296 , -0.23986278, ..., -0.13780731,\n",
            "          0.1751813 ,  0.26455048],\n",
            "        [ 0.34551257, -0.7252294 ,  0.87266773, ..., -0.44587156,\n",
            "          0.02264384,  0.11690225],\n",
            "        [ 0.59328467, -0.15986466,  0.2771164 , ...,  0.0651746 ,\n",
            "          0.5989312 ,  0.5116734 ],\n",
            "        ...,\n",
            "        [-0.2810838 , -0.5564685 ,  0.11118716, ..., -0.7606826 ,\n",
            "          0.4602281 ,  0.5973566 ],\n",
            "        [-0.2683584 , -0.5580812 ,  0.05853517, ..., -0.6943841 ,\n",
            "          0.48548236,  0.48160285],\n",
            "        [-0.27778533, -0.6600458 ,  0.15738155, ..., -0.6867851 ,\n",
            "          0.42690325,  0.49082989]]], dtype=float32)>, pooler_output=<tf.Tensor: shape=(700, 768), dtype=float32, numpy=\n",
            "array([[-0.6846133 ,  0.49671528,  0.99987864, ...,  0.99996465,\n",
            "        -0.22185944,  0.9914502 ],\n",
            "       [-0.70947546,  0.51571786,  0.99989086, ...,  0.99996287,\n",
            "        -0.43963498,  0.9913136 ],\n",
            "       [-0.6796333 ,  0.47352162,  0.9997825 , ...,  0.9999415 ,\n",
            "        -0.52577615,  0.9893763 ],\n",
            "       ...,\n",
            "       [-0.52285945,  0.40606135,  0.9992446 , ...,  0.9997715 ,\n",
            "        -0.5666262 ,  0.97535336],\n",
            "       [-0.57042754,  0.53852814,  0.99977607, ...,  0.99993515,\n",
            "         0.13615045,  0.975078  ],\n",
            "       [-0.5506414 ,  0.45035887,  0.99963564, ...,  0.99988854,\n",
            "        -0.30117112,  0.9761228 ]], dtype=float32)>, hidden_states=None, attentions=None)\n"
          ],
          "name": "stdout"
        }
      ]
    },
    {
      "cell_type": "code",
      "metadata": {
        "id": "FZVA5Cm7jTgU",
        "colab": {
          "base_uri": "https://localhost:8080/"
        },
        "outputId": "78fd283a-aef4-40a3-d822-1d179930000c"
      },
      "source": [
        "print(encoded_valid.values())"
      ],
      "execution_count": null,
      "outputs": [
        {
          "output_type": "stream",
          "text": [
            "dict_values([array([[  101,   142, 13894, ...,     0,     0,     0],\n",
            "       [  101,  2825,   179, ...,     0,     0,     0],\n",
            "       [  101, 24930,  1181, ...,     0,     0,     0],\n",
            "       ...,\n",
            "       [  101,  1525,   170, ...,     0,     0,     0],\n",
            "       [  101,  4630,  1143, ...,     0,     0,     0],\n",
            "       [  101,  1327,  1159, ...,     0,     0,     0]], dtype=int32), array([[1, 1, 1, ..., 0, 0, 0],\n",
            "       [1, 1, 1, ..., 0, 0, 0],\n",
            "       [1, 1, 1, ..., 0, 0, 0],\n",
            "       ...,\n",
            "       [1, 1, 1, ..., 0, 0, 0],\n",
            "       [1, 1, 1, ..., 0, 0, 0],\n",
            "       [1, 1, 1, ..., 0, 0, 0]], dtype=int32)])\n"
          ],
          "name": "stdout"
        }
      ]
    },
    {
      "cell_type": "markdown",
      "metadata": {
        "id": "fQlDWVZdnYZZ"
      },
      "source": [
        "#### Outputs of BERT \n",
        "\n",
        "We can see that there are two outputs from the BERT model.\n",
        "\n",
        "\n",
        "1. The **first** output of the BERT model is a tensor with shape: `(batch_size, seq_len, output_dim)` which computes **features for each token in the input sequence**"
      ]
    },
    {
      "cell_type": "code",
      "metadata": {
        "id": "M5DDe2kanYy4",
        "colab": {
          "base_uri": "https://localhost:8080/"
        },
        "outputId": "7cab3456-1a6e-4dda-aeae-3c5dec09be74"
      },
      "source": [
        "token_features = outputs[0]\n",
        "token_features.shape"
      ],
      "execution_count": null,
      "outputs": [
        {
          "output_type": "execute_result",
          "data": {
            "text/plain": [
              "TensorShape([700, 43, 768])"
            ]
          },
          "metadata": {
            "tags": []
          },
          "execution_count": 25
        }
      ]
    },
    {
      "cell_type": "markdown",
      "metadata": {
        "id": "WED3ODi-n5Zx"
      },
      "source": [
        "Note that `seq_len` is `max_token_len` (ie. 43)."
      ]
    },
    {
      "cell_type": "markdown",
      "metadata": {
        "id": "Ik14njDsn7Uf"
      },
      "source": [
        "\n",
        "2. \n",
        "\n",
        "The **second** output of the BERT model is a tensor with shape: `(batch_size, output_dim)` which is the feature vector of `[CLS]`. This vector is typically used as a **pooled representation for the sequence as a whole**. We can use this as the features of our intent classifier"
      ]
    },
    {
      "cell_type": "code",
      "metadata": {
        "id": "kxpxokzpnaVv",
        "colab": {
          "base_uri": "https://localhost:8080/"
        },
        "outputId": "92c3786c-3511-42f1-d5da-e59c13018694"
      },
      "source": [
        "sentence_representation = outputs[1]\n",
        "sentence_representation.shape"
      ],
      "execution_count": null,
      "outputs": [
        {
          "output_type": "execute_result",
          "data": {
            "text/plain": [
              "TensorShape([700, 768])"
            ]
          },
          "metadata": {
            "tags": []
          },
          "execution_count": 26
        }
      ]
    },
    {
      "cell_type": "markdown",
      "metadata": {
        "id": "EDNxGswlga65"
      },
      "source": [
        "Remember that our goal is to use BERT to compute some **representation** of a single voice command at a time. \n",
        "\n",
        "We have two options to obtain this sentence-level representation, which is used as the input for the final sequence classification layer:\n",
        "\n",
        "1. We can reuse the representation of the `[CLS]` token.\n",
        "\n",
        "or\n",
        "\n",
        "2. We can pool the representations (encodings) of all the tokens within the sequence (i.e. global average)."
      ]
    },
    {
      "cell_type": "markdown",
      "metadata": {
        "id": "S6Fh7rYXzhaK"
      },
      "source": [
        "#### Pooled Representation"
      ]
    },
    {
      "cell_type": "markdown",
      "metadata": {
        "id": "t3u4v-8In_KG"
      },
      "source": [
        "The pooled output comes from the application of a small multi-layer-perception (MLP) layer called the \"Pooler\" which is applied to the output representation of the special `[CLS]` token.\n",
        "\n",
        "<img src=\"https://miro.medium.com/max/3446/1*-IPQlOd46dlsutIbUq1Zcw.png\" width=300>"
      ]
    },
    {
      "cell_type": "code",
      "metadata": {
        "id": "qhZE-GFLn_7w",
        "colab": {
          "base_uri": "https://localhost:8080/"
        },
        "outputId": "93ac5447-bbae-4e19-89b8-3e257c55a8de"
      },
      "source": [
        "base_bert_model.bert.pooler.dense"
      ],
      "execution_count": null,
      "outputs": [
        {
          "output_type": "execute_result",
          "data": {
            "text/plain": [
              "<tensorflow.python.keras.layers.core.Dense at 0x7f010e205410>"
            ]
          },
          "metadata": {
            "tags": []
          },
          "execution_count": 27
        }
      ]
    },
    {
      "cell_type": "code",
      "metadata": {
        "id": "lxopUQmroBXy",
        "colab": {
          "base_uri": "https://localhost:8080/"
        },
        "outputId": "ad652cb3-a5ad-4715-bd03-536986ea8b36"
      },
      "source": [
        "# Extract the features across all batches for the 0th ([CLS]) token \n",
        "first_token_states = token_features[:, 0]\n",
        "pooled_outputs = base_bert_model.bert.pooler.dense(first_token_states)\n",
        "pooled_outputs.shape"
      ],
      "execution_count": null,
      "outputs": [
        {
          "output_type": "execute_result",
          "data": {
            "text/plain": [
              "TensorShape([700, 768])"
            ]
          },
          "metadata": {
            "tags": []
          },
          "execution_count": 28
        }
      ]
    },
    {
      "cell_type": "markdown",
      "metadata": {
        "id": "VROGcIWBoFTL"
      },
      "source": [
        "Now let's double-check that taking this route of extracting all of the token features for `[CLS]` and passing it through the \"Pooler\" results in close to the same output as using simply the `sentence_representation`.\n",
        "\n",
        "Take a look at the [documentation](https://numpy.org/doc/1.18/reference/generated/numpy.allclose.html) for the `allclose` function used below if you're interested."
      ]
    },
    {
      "cell_type": "code",
      "metadata": {
        "id": "L0cjv9IMoCyY",
        "colab": {
          "base_uri": "https://localhost:8080/"
        },
        "outputId": "70929346-cf0d-4400-865d-d700a9f011da"
      },
      "source": [
        "np.allclose(pooled_outputs, sentence_representation)"
      ],
      "execution_count": null,
      "outputs": [
        {
          "output_type": "execute_result",
          "data": {
            "text/plain": [
              "True"
            ]
          },
          "metadata": {
            "tags": []
          },
          "execution_count": 29
        }
      ]
    },
    {
      "cell_type": "markdown",
      "metadata": {
        "id": "FDQc9ZhgoJkW"
      },
      "source": [
        "### Exercise 4\n",
        "\n",
        "Time to make classifications!\n",
        "\n",
        "Let's finish filling out the following code template to build and train a **sequence classification model** to predict the **intent class** of voice commands.\n",
        "\n",
        "Remember: we're currently only considering the pooled sentence features and ignoring the token-wise features for now.\n",
        "\n",
        "Documentation for a [Dropout](https://www.tensorflow.org/api_docs/python/tf/keras/layers/Dropout) and [Dense](https://www.tensorflow.org/api_docs/python/tf/keras/layers/Dense) layer."
      ]
    },
    {
      "cell_type": "code",
      "metadata": {
        "id": "Iw18sQdQoJzf"
      },
      "source": [
        "import tensorflow as tf\n",
        "from transformers import TFBertModel\n",
        "from tensorflow.keras.layers import Dropout, Dense, GlobalAveragePooling1D\n",
        "from tensorflow.keras.optimizers import Adam\n",
        "from tensorflow.keras.losses import SparseCategoricalCrossentropy\n",
        "from tensorflow.keras.metrics import SparseCategoricalAccuracy\n",
        "\n",
        "\n",
        "class IntentClassificationModel(tf.keras.Model):\n",
        "\n",
        "    def __init__(self, intent_num_labels=None,\n",
        "                 dropout_prob=0.1):\n",
        "        super().__init__(name=\"intent_classifier\")\n",
        "\n",
        "        # Load the pretrained BERT model in the constructor\n",
        "        self.bert = base_bert_model\n",
        "\n",
        "        # TODO: Specify the dropout\n",
        "        self.dropout = Dropout(dropout_prob)  ### YOUR CODE HERE ###\n",
        "\n",
        "        # TODO: define a Dense classification layer which will compute\n",
        "        # the intent for each sequence in a batch. The number of \n",
        "        # output classes is given by the intent_num_labels parameter.\n",
        "        # Use the default linear activation (no softmax) to compute logits.\n",
        "        # The softmax normalization will be computed in the loss function\n",
        "        # instead of the model.\n",
        "        self.intent_classifier = Dense(intent_num_labels)  ### YOUR CODE HERE ###\n",
        "\n",
        "    def call(self, inputs, **kwargs):\n",
        "        # Use the pretrained model to extract features from our encoded inputs:\n",
        "        tokens_output, pooled_output = self.bert(inputs, **kwargs, return_dict=False)\n",
        "\n",
        "        # The second output of the main BERT layer has shape \n",
        "        # (batch_size, output_dim) and gives the pooled representation\n",
        "        # for the full sequence (from the hidden state corresponding to [CLS]).\n",
        "        pooled_output = self.dropout(pooled_output, \\\n",
        "                                     training=kwargs.get(\"training\", False))\n",
        "        \n",
        "        # TODO: use classifier layer to compute logits from pooled features.\n",
        "        intent_logits = self.intent_classifier(pooled_output)  ### YOUR CODE HERE ###\n",
        "\n",
        "        return intent_logits\n",
        "\n",
        "# TODO: create an instantiation of this class and pass in the correct\n",
        "# parameter for intent_num_labels.\n",
        "intent_model = IntentClassificationModel(7)  ### YOUR CODE HERE ###\n",
        "\n",
        "intent_model.compile(optimizer=Adam(learning_rate=3e-5, epsilon=1e-08),\n",
        "                     loss=SparseCategoricalCrossentropy(from_logits=True),\n",
        "                     metrics=[SparseCategoricalAccuracy('accuracy')], run_eagerly=True)"
      ],
      "execution_count": null,
      "outputs": []
    },
    {
      "cell_type": "code",
      "metadata": {
        "id": "FjHVILozos-K",
        "colab": {
          "base_uri": "https://localhost:8080/"
        },
        "outputId": "0ef6ea59-c018-4517-b5fc-3901352ce014"
      },
      "source": [
        "# Train the model.\n",
        "# Note: this cell will take a bit of time to execute.\n",
        "history = intent_model.fit(encoded_train, intent_train, epochs=1, batch_size=32, \\\n",
        "                           validation_data=(encoded_valid, intent_valid))"
      ],
      "execution_count": null,
      "outputs": [
        {
          "output_type": "stream",
          "text": [
            "409/409 [==============================] - 165s 402ms/step - loss: 0.3250 - accuracy: 0.8821 - val_loss: 0.0554 - val_accuracy: 0.9900\n"
          ],
          "name": "stdout"
        }
      ]
    },
    {
      "cell_type": "markdown",
      "metadata": {
        "id": "vr_1B13Xo8st"
      },
      "source": [
        "#### Softmax\n",
        "\n",
        "Note that this classification model outputs **logits** and we need the **probabilities** of each of the 7 classes being the true intent label.\n",
        "\n",
        "Recall that the softmax function turns an input vector of K real numbers into a normalized probability distribution consisting of K probabilities, proportional to the exponentials of the input numbers.\n",
        "\n",
        "<img src=\"https://miro.medium.com/max/1812/1*670CdxchunD-yAuUWdI7Bw.png\" width=400>\n",
        "\n",
        "For us, the final **softmax** normalization layer is included in the loss function instead of the model directly. \n",
        "\n",
        "That's why we need to configure the loss function `SparseCategoricalCrossentropy(from_logits=True)` accordingly above."
      ]
    },
    {
      "cell_type": "markdown",
      "metadata": {
        "id": "H8VnzpgMo_Jf"
      },
      "source": [
        "### Classification\n",
        "\n",
        "The last step to making predictions is writing a `classify` function that will use the `tokenizer` (from Step 1: Tokenize our Data) and the `intent_model` (from Exercise 4).\n",
        "\n",
        "The main point is choosing which of the 7 classes has the highest probability after the softmax."
      ]
    },
    {
      "cell_type": "code",
      "metadata": {
        "id": "sE9q5SL4o8-w"
      },
      "source": [
        "# Classification takes a voice command as input, as well as\n",
        "# the 7 possible classes (intent_names), and uses the BERT\n",
        "# tokenizer and the intent_model.\n",
        "def classify(text, intent_names):\n",
        "    inputs = tf.constant(tokenizer.encode(text))[None, :]  # batch_size = 1\n",
        "    class_id = intent_model(inputs).numpy().argmax(axis=1)[0]\n",
        "    return intent_names[class_id]"
      ],
      "execution_count": null,
      "outputs": []
    },
    {
      "cell_type": "markdown",
      "metadata": {
        "id": "pzNCHZycpC0J"
      },
      "source": [
        "Let's see how our classify function works on some examples!"
      ]
    },
    {
      "cell_type": "code",
      "metadata": {
        "id": "vh5Yj-8VpJag",
        "colab": {
          "base_uri": "https://localhost:8080/",
          "height": 35
        },
        "outputId": "7c7de95f-1a63-4b26-9afd-a996d1535b77"
      },
      "source": [
        "classify(\"Book a table for two at La Tour d'Argent for Friday night.\", intent_names)"
      ],
      "execution_count": null,
      "outputs": [
        {
          "output_type": "execute_result",
          "data": {
            "application/vnd.google.colaboratory.intrinsic+json": {
              "type": "string"
            },
            "text/plain": [
              "'BookRestaurant'"
            ]
          },
          "metadata": {
            "tags": []
          },
          "execution_count": 33
        }
      ]
    },
    {
      "cell_type": "code",
      "metadata": {
        "id": "IVO_ZZehpGQo",
        "colab": {
          "base_uri": "https://localhost:8080/",
          "height": 35
        },
        "outputId": "7287d2af-80d0-49b7-8f15-e2c35cfb9d29"
      },
      "source": [
        "classify(\"I would like to listen to Anima by Thom Yorke.\", intent_names)"
      ],
      "execution_count": null,
      "outputs": [
        {
          "output_type": "execute_result",
          "data": {
            "application/vnd.google.colaboratory.intrinsic+json": {
              "type": "string"
            },
            "text/plain": [
              "'PlayMusic'"
            ]
          },
          "metadata": {
            "tags": []
          },
          "execution_count": 34
        }
      ]
    },
    {
      "cell_type": "code",
      "metadata": {
        "id": "vuR4AA4upKUU",
        "colab": {
          "base_uri": "https://localhost:8080/",
          "height": 35
        },
        "outputId": "70666baf-96fa-4a27-a4f3-4b58b5356c44"
      },
      "source": [
        "classify(\"Will it snow tomorrow in Saclay?\", intent_names)"
      ],
      "execution_count": null,
      "outputs": [
        {
          "output_type": "execute_result",
          "data": {
            "application/vnd.google.colaboratory.intrinsic+json": {
              "type": "string"
            },
            "text/plain": [
              "'GetWeather'"
            ]
          },
          "metadata": {
            "tags": []
          },
          "execution_count": 35
        }
      ]
    },
    {
      "cell_type": "code",
      "metadata": {
        "id": "b3JO9E3spNI4",
        "colab": {
          "base_uri": "https://localhost:8080/",
          "height": 35
        },
        "outputId": "7e925ad9-7d2b-4361-8796-c318e7ecfc5f"
      },
      "source": [
        "classify(\"Where can I see to the last Star Wars near Odéon tonight?\", intent_names)"
      ],
      "execution_count": null,
      "outputs": [
        {
          "output_type": "execute_result",
          "data": {
            "application/vnd.google.colaboratory.intrinsic+json": {
              "type": "string"
            },
            "text/plain": [
              "'BookRestaurant'"
            ]
          },
          "metadata": {
            "tags": []
          },
          "execution_count": 36
        }
      ]
    },
    {
      "cell_type": "markdown",
      "metadata": {
        "id": "fqmRD5-epOxl"
      },
      "source": [
        "Yay! These examples are all classified correctly. It's also impressive that we can achieve 98% accuracy on the validation set after training for only 1 epoch."
      ]
    },
    {
      "cell_type": "markdown",
      "metadata": {
        "id": "rfyKGhq5pRjQ"
      },
      "source": [
        "#### Error Analysis\n",
        "\n",
        "Let's do a brute force search through the testing set to qualitatively analyze the types of mistakes that our `intent_model` *is* making though.\n"
      ]
    },
    {
      "cell_type": "code",
      "metadata": {
        "id": "RMiCU58HpPRa"
      },
      "source": [
        "# Loop through each row in the pandas DF for the training set,\n",
        "# and print the sequence, predicted label, and correct label\n",
        "# if our classifier failed to predict the correct intent label.\n",
        "# Limit the output to only the first 20 errors.\n",
        "\n",
        "# Shuffle the dataframe (to look at diverse samples):\n",
        "df_test = df_test.sample(frac=1).reset_index(drop=True)\n",
        "\n",
        "predictions = []\n",
        "trues = []\n",
        "\n",
        "error_count = 0\n",
        "for i in range(len(df_test)):\n",
        "  words = \" \".join(df_test[i:i+1][\"words\"].to_string().split(\" \")[4:])\n",
        "  predicted = classify(words, intent_names)\n",
        "  true = df_test[i:i+1][\"intent_label\"].to_string().split(\" \")[-1]\n",
        "  \n",
        "  predictions.append(classify(words, intent_names))\n",
        "  trues.append(df_test[i:i+1][\"intent_label\"].to_string().split(\" \")[-1])\n",
        "\n",
        "  if predicted != true:\n",
        "    error_count += 1\n",
        "    print(\"Incorrectly predicted {} but the correct label is {} for the sequence {}.\" \\\n",
        "          .format(predicted, true, words))\n",
        "  if error_count == 20:\n",
        "    break"
      ],
      "execution_count": null,
      "outputs": []
    },
    {
      "cell_type": "markdown",
      "metadata": {
        "id": "ABkUb5k6pYUr"
      },
      "source": [
        "**Discuss**: Why do you think our classifier made these mistakes, and what could possibly improve the predictions?"
      ]
    },
    {
      "cell_type": "code",
      "metadata": {
        "id": "KrbdF2uLZZ8U",
        "colab": {
          "base_uri": "https://localhost:8080/",
          "height": 52
        },
        "outputId": "fbf829f4-1882-46c8-bafd-ae7f2062d7c3"
      },
      "source": [
        "\n",
        "# Create the Confusion Matrix\n",
        "# y_test = dataframe['diagnosis']\n",
        "\"\"\"\n",
        "predicted = []\n",
        "true = []\n",
        "\n",
        "for i in range(len(df_test)):\n",
        "  words = \" \".join(df_test[i:i+1][\"words\"].to_string().split(\" \")[4:])\n",
        "  predicted.append(classify(words, intent_names))\n",
        "  true.append(df_test[i:i+1][\"intent_label\"].to_string().split(\" \")[-1])\n",
        "  \"\"\""
      ],
      "execution_count": null,
      "outputs": [
        {
          "output_type": "execute_result",
          "data": {
            "application/vnd.google.colaboratory.intrinsic+json": {
              "type": "string"
            },
            "text/plain": [
              "'\\npredicted = []\\ntrue = []\\n\\nfor i in range(len(df_test)):\\n  words = \" \".join(df_test[i:i+1][\"words\"].to_string().split(\" \")[4:])\\n  predicted.append(classify(words, intent_names))\\n  true.append(df_test[i:i+1][\"intent_label\"].to_string().split(\" \")[-1])\\n  '"
            ]
          },
          "metadata": {
            "tags": []
          },
          "execution_count": 38
        }
      ]
    },
    {
      "cell_type": "code",
      "metadata": {
        "colab": {
          "base_uri": "https://localhost:8080/",
          "height": 559
        },
        "id": "5ZWsNi95ddN3",
        "outputId": "a7338058-621e-4238-9755-dc675ceb856d"
      },
      "source": [
        "from sklearn import metrics\n",
        "import seaborn as sns\n",
        "cnf_matrix = metrics.confusion_matrix(predictions, trues)\n",
        "\n",
        "# Visualizing the Confusion Matrix\n",
        "class_names = [1,2,3,4,5,6,7]\n",
        "\n",
        "fig, ax = plt.subplots()\n",
        "# Setting up and visualizing the plot (do not worry about the code below!)\n",
        "tick_marks = np.arange(len(class_names))\n",
        "sns.heatmap(pd.DataFrame(cnf_matrix), annot=True, cmap=\"YlGnBu\" ,fmt='g') # Creating heatmap\n",
        "ax.xaxis.set_label_position(\"top\")\n",
        "plt.tight_layout()\n",
        "plt.title('Confusion matrix', y = 1.1)\n",
        "plt.ylabel('Actual intent')\n",
        "plt.xlabel('Predicted intent')\n",
        "plt.xticks(tick_marks, class_names)\n",
        "plt.yticks(tick_marks, class_names)"
      ],
      "execution_count": null,
      "outputs": [
        {
          "output_type": "execute_result",
          "data": {
            "text/plain": [
              "([<matplotlib.axis.YTick at 0x7efee117b6d0>,\n",
              "  <matplotlib.axis.YTick at 0x7efee12354d0>,\n",
              "  <matplotlib.axis.YTick at 0x7efee10daa10>,\n",
              "  <matplotlib.axis.YTick at 0x7efee10e22d0>,\n",
              "  <matplotlib.axis.YTick at 0x7efee10e2790>,\n",
              "  <matplotlib.axis.YTick at 0x7efee10e2cd0>,\n",
              "  <matplotlib.axis.YTick at 0x7efee10e7310>],\n",
              " [Text(0, 0.5, '1'),\n",
              "  Text(0, 1.5, '2'),\n",
              "  Text(0, 2.5, '3'),\n",
              "  Text(0, 3.5, '4'),\n",
              "  Text(0, 4.5, '5'),\n",
              "  Text(0, 5.5, '6'),\n",
              "  Text(0, 6.5, '7')])"
            ]
          },
          "metadata": {
            "tags": []
          },
          "execution_count": 42
        },
        {
          "output_type": "display_data",
          "data": {
            "image/png": "[encoded data removed]",
            "text/plain": [
              "<Figure size 432x288 with 2 Axes>"
            ]
          },
          "metadata": {
            "tags": [],
            "needs_background": "light"
          }
        }
      ]
    }
  ]
}